{
 "cells": [
  {
   "cell_type": "markdown",
   "metadata": {},
   "source": [
    "### Imports and config"
   ]
  },
  {
   "cell_type": "code",
   "execution_count": 1,
   "metadata": {},
   "outputs": [],
   "source": [
    "# Libraries\n",
    "import os\n",
    "from importlib import reload\n",
    "import keras\n",
    "\n",
    "# Scripts\n",
    "from helpers import data, runners, utils"
   ]
  },
  {
   "cell_type": "code",
   "execution_count": 2,
   "metadata": {},
   "outputs": [
    {
     "name": "stdout",
     "output_type": "stream",
     "text": [
      "Name: tensorflow\n",
      "Version: 2.10.1\n",
      "Summary: TensorFlow is an open source machine learning framework for everyone.\n",
      "Home-page: https://www.tensorflow.org/\n",
      "Author: Google Inc.\n",
      "Author-email: packages@tensorflow.org\n",
      "License: Apache 2.0\n",
      "Location: c:\\users\\sonar\\anaconda3v2\\envs\\acml_2024\\lib\\site-packages\n",
      "Requires: absl-py, astunparse, flatbuffers, gast, google-pasta, grpcio, h5py, keras, keras-preprocessing, libclang, numpy, opt-einsum, packaging, protobuf, setuptools, six, tensorboard, tensorflow-estimator, tensorflow-io-gcs-filesystem, termcolor, typing-extensions, wrapt\n",
      "Required-by: \n"
     ]
    }
   ],
   "source": [
    "# Should be v2.10\n",
    "!pip show tensorflow "
   ]
  },
  {
   "cell_type": "code",
   "execution_count": 3,
   "metadata": {},
   "outputs": [
    {
     "name": "stdout",
     "output_type": "stream",
     "text": [
      "Name: keras\n",
      "Version: 2.10.0\n",
      "Summary: Deep learning for humans.\n",
      "Home-page: https://keras.io/\n",
      "Author: Keras team\n",
      "Author-email: keras-users@googlegroups.com\n",
      "License: Apache 2.0\n",
      "Location: c:\\users\\sonar\\anaconda3v2\\envs\\acml_2024\\lib\\site-packages\n",
      "Requires: \n",
      "Required-by: keras-tuner, tensorflow\n"
     ]
    }
   ],
   "source": [
    "# Should be v2.10\n",
    "!pip show keras "
   ]
  },
  {
   "cell_type": "code",
   "execution_count": 4,
   "metadata": {},
   "outputs": [
    {
     "data": {
      "text/plain": [
       "<module 'helpers.utils' from 'c:\\\\Users\\\\sonar\\\\Desktop\\\\thesis-ml\\\\ml\\\\main\\\\helpers\\\\utils.py'>"
      ]
     },
     "execution_count": 4,
     "metadata": {},
     "output_type": "execute_result"
    }
   ],
   "source": [
    "reload(data)\n",
    "reload(runners)\n",
    "reload(utils)"
   ]
  },
  {
   "cell_type": "code",
   "execution_count": 5,
   "metadata": {},
   "outputs": [
    {
     "name": "stdout",
     "output_type": "stream",
     "text": [
      "GPU DETECTED ✓\n",
      "[PhysicalDevice(name='/physical_device:GPU:0', device_type='GPU')]\n"
     ]
    }
   ],
   "source": [
    "# Silence information messages from TensorFlow\n",
    "os.environ['TF_CPP_MIN_LOG_LEVEL'] = '1'\n",
    "\n",
    "# Check whether tf is using the GPU\n",
    "utils.check_gpu_use() \n"
   ]
  },
  {
   "cell_type": "markdown",
   "metadata": {},
   "source": [
    "## `main`"
   ]
  },
  {
   "cell_type": "markdown",
   "metadata": {},
   "source": [
    "### Load data"
   ]
  },
  {
   "cell_type": "code",
   "execution_count": 6,
   "metadata": {},
   "outputs": [],
   "source": [
    "NUM_FOLDS = 5\n",
    "INPUT_SHAPE=(192, 192, 1)\n",
    "GPU_BATCH_SIZE = 16\n",
    "DATA_BATCH_SIZE = 16\n",
    "EPOCHS = 3"
   ]
  },
  {
   "cell_type": "code",
   "execution_count": 7,
   "metadata": {},
   "outputs": [
    {
     "name": "stdout",
     "output_type": "stream",
     "text": [
      "Successfully loaded folds.\n",
      "\n"
     ]
    }
   ],
   "source": [
    "fold_dfs = data.get_fold_dfs(\n",
    "    fold_definition_csv='../data/DATASET_CSVS/deepship_5k_seg_3s.csv',\n",
    "    new_path_to_root='../data/deepship_baseline_detrended_mat/alpha_1',\n",
    "    ext='mat',\n",
    "    unix=False,\n",
    "    label_encodings={0:'Tanker', 1:'Cargo', 2:'Tug', 3:'Passengership'},\n",
    "    n_folds=NUM_FOLDS\n",
    ")\n",
    "print('Successfully loaded folds.\\n')"
   ]
  },
  {
   "cell_type": "code",
   "execution_count": 8,
   "metadata": {},
   "outputs": [
    {
     "name": "stdout",
     "output_type": "stream",
     "text": [
      "28908\n"
     ]
    }
   ],
   "source": [
    "total_samples = 0\n",
    "for fold_df in fold_dfs:\n",
    "    total_samples += len(fold_df)\n",
    "print(total_samples)"
   ]
  },
  {
   "cell_type": "markdown",
   "metadata": {},
   "source": [
    "### Initialise and configure model"
   ]
  },
  {
   "cell_type": "code",
   "execution_count": 9,
   "metadata": {},
   "outputs": [
    {
     "name": "stdout",
     "output_type": "stream",
     "text": [
      "Model: \"cnn_lstm\"\n",
      "_________________________________________________________________\n",
      " Layer (type)                Output Shape              Param #   \n",
      "=================================================================\n",
      " spec (InputLayer)           [(None, 192, 192, 1)]     0         \n",
      "                                                                 \n",
      " conv2d (Conv2D)             (None, 192, 192, 128)     3328      \n",
      "                                                                 \n",
      " batch_normalization (BatchN  (None, 192, 192, 128)    512       \n",
      " ormalization)                                                   \n",
      "                                                                 \n",
      " activation (Activation)     (None, 192, 192, 128)     0         \n",
      "                                                                 \n",
      " max_pooling2d (MaxPooling2D  (None, 96, 96, 128)      0         \n",
      " )                                                               \n",
      "                                                                 \n",
      " conv2d_1 (Conv2D)           (None, 96, 96, 128)       409728    \n",
      "                                                                 \n",
      " batch_normalization_1 (Batc  (None, 96, 96, 128)      512       \n",
      " hNormalization)                                                 \n",
      "                                                                 \n",
      " activation_1 (Activation)   (None, 96, 96, 128)       0         \n",
      "                                                                 \n",
      " max_pooling2d_1 (MaxPooling  (None, 24, 48, 128)      0         \n",
      " 2D)                                                             \n",
      "                                                                 \n",
      " conv2d_2 (Conv2D)           (None, 24, 48, 256)       819456    \n",
      "                                                                 \n",
      " batch_normalization_2 (Batc  (None, 24, 48, 256)      1024      \n",
      " hNormalization)                                                 \n",
      "                                                                 \n",
      " activation_2 (Activation)   (None, 24, 48, 256)       0         \n",
      "                                                                 \n",
      " max_pooling2d_2 (MaxPooling  (None, 12, 24, 256)      0         \n",
      " 2D)                                                             \n",
      "                                                                 \n",
      " conv2d_3 (Conv2D)           (None, 12, 24, 256)       1638656   \n",
      "                                                                 \n",
      " batch_normalization_3 (Batc  (None, 12, 24, 256)      1024      \n",
      " hNormalization)                                                 \n",
      "                                                                 \n",
      " activation_3 (Activation)   (None, 12, 24, 256)       0         \n",
      "                                                                 \n",
      " max_pooling2d_3 (MaxPooling  (None, 3, 12, 256)       0         \n",
      " 2D)                                                             \n",
      "                                                                 \n",
      " layer_normalization (LayerN  (None, 3, 12, 256)       512       \n",
      " ormalization)                                                   \n",
      "                                                                 \n",
      " reshape (Reshape)           (None, 3, 3072)           0         \n",
      "                                                                 \n",
      " lstm (LSTM)                 (None, 512)               7342080   \n",
      "                                                                 \n",
      " flatten (Flatten)           (None, 512)               0         \n",
      "                                                                 \n",
      " dense_all (Dense)           (None, 64)                32832     \n",
      "                                                                 \n",
      " classification (Dense)      (None, 4)                 260       \n",
      "                                                                 \n",
      "=================================================================\n",
      "Total params: 10,249,924\n",
      "Trainable params: 10,248,388\n",
      "Non-trainable params: 1,536\n",
      "_________________________________________________________________\n",
      "None\n"
     ]
    }
   ],
   "source": [
    "from models import cnn_lstm\n",
    "\n",
    "cnn_lstm_model = cnn_lstm.get_cnn_lstm(\n",
    "    input_shape=INPUT_SHAPE,\n",
    "    input_name='spec',\n",
    "    num_classes=4,\n",
    "    verbose=True\n",
    ")\n",
    "\n",
    "cnn_lstm_model.compile(\n",
    "    optimizer=keras.optimizers.Adam(learning_rate=1e-5),\n",
    "    loss=keras.losses.CategoricalCrossentropy(),\n",
    "    metrics=['acc']\n",
    ")"
   ]
  },
  {
   "cell_type": "code",
   "execution_count": 10,
   "metadata": {},
   "outputs": [],
   "source": [
    "# These are kwargs for Model.fit() and Model.evaluate() excluding x and y.\n",
    "fit_kwargs = {\n",
    "    'epochs': EPOCHS,\n",
    "    'batch_size': GPU_BATCH_SIZE,\n",
    "    'verbose': 1,\n",
    "    'callbacks': [cnn_lstm.callback_early_stop(patience=3, restore_best_weights=True)]\n",
    "}\n",
    "\n",
    "eval_kwargs = {\n",
    "    'batch_size': GPU_BATCH_SIZE,\n",
    "    'verbose': 1\n",
    "}"
   ]
  },
  {
   "cell_type": "markdown",
   "metadata": {},
   "source": [
    "### Run k-fold cross val"
   ]
  },
  {
   "cell_type": "code",
   "execution_count": null,
   "metadata": {},
   "outputs": [
    {
     "name": "stdout",
     "output_type": "stream",
     "text": [
      "FOLD 1\n",
      "Epoch 1/3\n"
     ]
    }
   ],
   "source": [
    "reload(runners)\n",
    "\n",
    "# [DBS = GBS = 8] 5 folds, 3 epochs = 100 - 160 min\n",
    "\n",
    "model, histories, evals, metrics = runners.k_fold_cross_validation(\n",
    "    fold_dfs=fold_dfs,\n",
    "    model=cnn_lstm_model,\n",
    "    fit_kwargs=fit_kwargs,\n",
    "    eval_kwargs=eval_kwargs,\n",
    "    ext=\"mat\",\n",
    "    mat_var_name=\"ampls_detrended_exp\",\n",
    "    data_batch_size=DATA_BATCH_SIZE,\n",
    "    use_cpu=False\n",
    ")"
   ]
  },
  {
   "cell_type": "code",
   "execution_count": null,
   "metadata": {},
   "outputs": [],
   "source": [
    "# model.save('models/saved/cnn_lstm_baseline_12112024/cnn_lstm_baseline_3_epochs.keras')\n",
    "model.save('models/saved/cnn_lstm_detrended_12112024/alpha_1/cnn_lstm_alpha_1_3_epochs.keras')"
   ]
  },
  {
   "cell_type": "markdown",
   "metadata": {},
   "source": [
    "### Calculate metrics"
   ]
  },
  {
   "cell_type": "code",
   "execution_count": null,
   "metadata": {},
   "outputs": [],
   "source": [
    "evals"
   ]
  },
  {
   "cell_type": "code",
   "execution_count": null,
   "metadata": {},
   "outputs": [],
   "source": [
    "loss, acc = utils.calculate_metrics(evals)\n",
    "print(f\"Average loss: {loss}\")\n",
    "print(f\"Average accuracy: {acc}\")"
   ]
  },
  {
   "cell_type": "code",
   "execution_count": null,
   "metadata": {},
   "outputs": [],
   "source": [
    "reload(utils)\n",
    "\n",
    "fig = utils.get_acc_loss_curves_by_epoch(histories, overlay=True)\n",
    "# fig.savefig('models/saved/cnn_lstm_baseline_12112024/img/3_epochs_by_epoch.pdf')\n",
    "fig.savefig('models/saved/cnn_lstm_detrended_12112024/alpha_1/img/3_epochs_by_epoch.pdf')\n",
    "fig.show()"
   ]
  },
  {
   "cell_type": "code",
   "execution_count": null,
   "metadata": {},
   "outputs": [],
   "source": [
    "reload(utils)\n",
    "\n",
    "fig = utils.get_acc_loss_curves_by_fold(histories, overlay=True)\n",
    "# fig.savefig('models/saved/cnn_lstm_baseline_12112024/img/3_epochs_by_fold.pdf')\n",
    "fig.savefig('models/saved/cnn_lstm_detrended_12112024/alpha_1/img/3_epochs_by_fold.pdf')\n",
    "fig.show()"
   ]
  },
  {
   "cell_type": "code",
   "execution_count": null,
   "metadata": {},
   "outputs": [],
   "source": [
    "print(\"Average Precision:\", metrics[\"precision\"])\n",
    "print(\"Average Recall:\", metrics[\"recall\"])\n",
    "print(\"Average F1 Score:\", metrics[\"f1_score\"])\n",
    "print(\"Average Accuracy:\", metrics[\"accuracy\"])"
   ]
  }
 ],
 "metadata": {
  "kernelspec": {
   "display_name": "acml_2024",
   "language": "python",
   "name": "python3"
  },
  "language_info": {
   "codemirror_mode": {
    "name": "ipython",
    "version": 3
   },
   "file_extension": ".py",
   "mimetype": "text/x-python",
   "name": "python",
   "nbconvert_exporter": "python",
   "pygments_lexer": "ipython3",
   "version": "3.9.7"
  }
 },
 "nbformat": 4,
 "nbformat_minor": 2
}
