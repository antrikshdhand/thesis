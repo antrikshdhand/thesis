{
 "cells": [
  {
   "cell_type": "code",
   "execution_count": null,
   "metadata": {},
   "outputs": [],
   "source": [
    "import pandas as pd\n",
    "import keras\n",
    "\n",
    "from helpers import data, utils, generators"
   ]
  },
  {
   "cell_type": "code",
   "execution_count": 7,
   "metadata": {},
   "outputs": [],
   "source": [
    "NUM_FOLDS = 10\n",
    "INPUT_SHAPE = (192, 192, 1)\n",
    "GPU_BATCH_SIZE = 16\n",
    "DATA_BATCH_SIZE = 16"
   ]
  },
  {
   "cell_type": "code",
   "execution_count": 8,
   "metadata": {},
   "outputs": [
    {
     "name": "stdout",
     "output_type": "stream",
     "text": [
      "Successfully loaded folds.\n",
      "\n"
     ]
    }
   ],
   "source": [
    "fold_dfs = data.get_fold_dfs(\n",
    "    fold_definition_csv='../data/DATASET_CSVS/deepship_5k_seg_3s.csv',\n",
    "    new_path_to_root='../data/deepship_baseline_unnorm_mat',\n",
    "    ext='mat',\n",
    "    unix=False,\n",
    "    label_encodings={0:'Tanker', 1:'Cargo', 2:'Tug', 3:'Passengership'},\n",
    "    n_folds=NUM_FOLDS\n",
    ")\n",
    "print('Successfully loaded folds.\\n')"
   ]
  },
  {
   "cell_type": "code",
   "execution_count": 9,
   "metadata": {},
   "outputs": [],
   "source": [
    "train_df = pd.concat(fold_dfs[2:])\n",
    "val_df = fold_dfs[1]\n",
    "test_df = fold_dfs[0]\n",
    "\n",
    "train_gen = generators.DeepShipGenerator(\n",
    "    train_df,\n",
    "    ext='mat',\n",
    "    mat_var_name='Ptrans',\n",
    "    batch_size=DATA_BATCH_SIZE\n",
    ")\n",
    "val_gen = generators.DeepShipGenerator(\n",
    "    val_df,\n",
    "    ext='mat',\n",
    "    mat_var_name='Ptrans',\n",
    "    batch_size=DATA_BATCH_SIZE\n",
    ")\n",
    "test_gen = generators.DeepShipGenerator(\n",
    "    test_df,\n",
    "    ext='mat',\n",
    "    mat_var_name='Ptrans',\n",
    "    batch_size=DATA_BATCH_SIZE\n",
    ")"
   ]
  },
  {
   "cell_type": "code",
   "execution_count": 10,
   "metadata": {},
   "outputs": [
    {
     "name": "stdout",
     "output_type": "stream",
     "text": [
      "Model: \"cnn_lstm\"\n",
      "_________________________________________________________________\n",
      " Layer (type)                Output Shape              Param #   \n",
      "=================================================================\n",
      " spec (InputLayer)           [(None, 192, 192, 1)]     0         \n",
      "                                                                 \n",
      " conv2d_4 (Conv2D)           (None, 192, 192, 128)     3328      \n",
      "                                                                 \n",
      " batch_normalization_4 (Batc  (None, 192, 192, 128)    512       \n",
      " hNormalization)                                                 \n",
      "                                                                 \n",
      " activation_4 (Activation)   (None, 192, 192, 128)     0         \n",
      "                                                                 \n",
      " max_pooling2d_4 (MaxPooling  (None, 96, 96, 128)      0         \n",
      " 2D)                                                             \n",
      "                                                                 \n",
      " conv2d_5 (Conv2D)           (None, 96, 96, 128)       409728    \n",
      "                                                                 \n",
      " batch_normalization_5 (Batc  (None, 96, 96, 128)      512       \n",
      " hNormalization)                                                 \n",
      "                                                                 \n",
      " activation_5 (Activation)   (None, 96, 96, 128)       0         \n",
      "                                                                 \n",
      " max_pooling2d_5 (MaxPooling  (None, 24, 48, 128)      0         \n",
      " 2D)                                                             \n",
      "                                                                 \n",
      " conv2d_6 (Conv2D)           (None, 24, 48, 256)       819456    \n",
      "                                                                 \n",
      " batch_normalization_6 (Batc  (None, 24, 48, 256)      1024      \n",
      " hNormalization)                                                 \n",
      "                                                                 \n",
      " activation_6 (Activation)   (None, 24, 48, 256)       0         \n",
      "                                                                 \n",
      " max_pooling2d_6 (MaxPooling  (None, 12, 24, 256)      0         \n",
      " 2D)                                                             \n",
      "                                                                 \n",
      " conv2d_7 (Conv2D)           (None, 12, 24, 256)       1638656   \n",
      "                                                                 \n",
      " batch_normalization_7 (Batc  (None, 12, 24, 256)      1024      \n",
      " hNormalization)                                                 \n",
      "                                                                 \n",
      " activation_7 (Activation)   (None, 12, 24, 256)       0         \n",
      "                                                                 \n",
      " max_pooling2d_7 (MaxPooling  (None, 3, 12, 256)       0         \n",
      " 2D)                                                             \n",
      "                                                                 \n",
      " layer_normalization_1 (Laye  (None, 3, 12, 256)       512       \n",
      " rNormalization)                                                 \n",
      "                                                                 \n",
      " reshape_1 (Reshape)         (None, 3, 3072)           0         \n",
      "                                                                 \n",
      " lstm_1 (LSTM)               (None, 512)               7342080   \n",
      "                                                                 \n",
      " flatten (Flatten)           (None, 512)               0         \n",
      "                                                                 \n",
      " dense_all (Dense)           (None, 64)                32832     \n",
      "                                                                 \n",
      " classification (Dense)      (None, 4)                 260       \n",
      "                                                                 \n",
      "=================================================================\n",
      "Total params: 10,249,924\n",
      "Trainable params: 10,248,388\n",
      "Non-trainable params: 1,536\n",
      "_________________________________________________________________\n",
      "None\n"
     ]
    }
   ],
   "source": [
    "from models import cnn_lstm\n",
    "\n",
    "cnn_lstm_model = cnn_lstm.get_cnn_lstm(\n",
    "    input_shape=INPUT_SHAPE,\n",
    "    input_name='spec',\n",
    "    num_classes=4,\n",
    "    verbose=True\n",
    ")\n",
    "\n",
    "cnn_lstm_model.compile(\n",
    "    optimizer=keras.optimizers.Adam(learning_rate=1e-5),\n",
    "    loss=keras.losses.CategoricalCrossentropy(),\n",
    "    metrics=['acc']\n",
    ")"
   ]
  },
  {
   "cell_type": "code",
   "execution_count": 11,
   "metadata": {},
   "outputs": [
    {
     "name": "stdout",
     "output_type": "stream",
     "text": [
      "Epoch 1/10\n",
      "2716/2716 - 510s - loss: 0.7809 - acc: 0.6866 - val_loss: 0.7560 - val_acc: 0.6930 - 510s/epoch - 188ms/step\n",
      "Epoch 2/10\n",
      "2716/2716 - 695s - loss: 0.4770 - acc: 0.8239 - val_loss: 0.8088 - val_acc: 0.6700 - 695s/epoch - 256ms/step\n",
      "Epoch 3/10\n",
      "2716/2716 - 849s - loss: 0.3185 - acc: 0.8904 - val_loss: 0.8159 - val_acc: 0.6627 - 849s/epoch - 313ms/step\n",
      "Epoch 4/10\n",
      "2716/2716 - 844s - loss: 0.2134 - acc: 0.9340 - val_loss: 0.8932 - val_acc: 0.6556 - 844s/epoch - 311ms/step\n",
      "Epoch 5/10\n",
      "2716/2716 - 832s - loss: 0.1400 - acc: 0.9629 - val_loss: 0.8088 - val_acc: 0.7052 - 832s/epoch - 306ms/step\n",
      "Epoch 6/10\n",
      "2716/2716 - 816s - loss: 0.0866 - acc: 0.9815 - val_loss: 0.9759 - val_acc: 0.6749 - 816s/epoch - 301ms/step\n",
      "Epoch 7/10\n",
      "2716/2716 - 845s - loss: 0.0526 - acc: 0.9907 - val_loss: 1.0313 - val_acc: 0.6706 - 845s/epoch - 311ms/step\n",
      "Epoch 8/10\n",
      "2716/2716 - 771s - loss: 0.0340 - acc: 0.9944 - val_loss: 1.0272 - val_acc: 0.7032 - 771s/epoch - 284ms/step\n",
      "Epoch 9/10\n",
      "2716/2716 - 792s - loss: 0.0245 - acc: 0.9962 - val_loss: 1.2598 - val_acc: 0.6605 - 792s/epoch - 292ms/step\n",
      "Epoch 10/10\n",
      "2716/2716 - 820s - loss: 0.0178 - acc: 0.9973 - val_loss: 1.2502 - val_acc: 0.6771 - 820s/epoch - 302ms/step\n"
     ]
    }
   ],
   "source": [
    "keras.backend.clear_session()\n",
    "\n",
    "history10 = cnn_lstm_model.fit(\n",
    "    x=train_gen,\n",
    "    validation_data=val_gen,\n",
    "    batch_size=GPU_BATCH_SIZE,\n",
    "    epochs=10,\n",
    "    verbose=2\n",
    ")"
   ]
  },
  {
   "cell_type": "code",
   "execution_count": 12,
   "metadata": {},
   "outputs": [],
   "source": [
    "cnn_lstm_model.save('models/cnn_lstm_mark_10.keras')"
   ]
  },
  {
   "cell_type": "code",
   "execution_count": 13,
   "metadata": {},
   "outputs": [
    {
     "name": "stdout",
     "output_type": "stream",
     "text": [
      "283/283 - 35s - loss: 1.4982 - acc: 0.6469 - 35s/epoch - 122ms/step\n"
     ]
    }
   ],
   "source": [
    "evals10 = cnn_lstm_model.evaluate(\n",
    "    test_gen,\n",
    "    batch_size=GPU_BATCH_SIZE,\n",
    "    verbose=2\n",
    ")"
   ]
  },
  {
   "cell_type": "code",
   "execution_count": 14,
   "metadata": {},
   "outputs": [
    {
     "name": "stdout",
     "output_type": "stream",
     "text": [
      "Epoch 1/10\n",
      "2716/2716 - 846s - loss: 0.0163 - acc: 0.9969 - val_loss: 1.2609 - val_acc: 0.6758 - 846s/epoch - 311ms/step\n",
      "Epoch 2/10\n",
      "2716/2716 - 858s - loss: 0.0145 - acc: 0.9968 - val_loss: 1.1564 - val_acc: 0.7055 - 858s/epoch - 316ms/step\n",
      "Epoch 3/10\n",
      "2716/2716 - 841s - loss: 0.0111 - acc: 0.9978 - val_loss: 1.2339 - val_acc: 0.7006 - 841s/epoch - 310ms/step\n",
      "Epoch 4/10\n",
      "2716/2716 - 833s - loss: 0.0134 - acc: 0.9968 - val_loss: 1.2744 - val_acc: 0.6848 - 833s/epoch - 307ms/step\n",
      "Epoch 5/10\n",
      "2716/2716 - 840s - loss: 0.0097 - acc: 0.9978 - val_loss: 1.2773 - val_acc: 0.6921 - 840s/epoch - 309ms/step\n",
      "Epoch 6/10\n",
      "2716/2716 - 855s - loss: 0.0080 - acc: 0.9982 - val_loss: 1.3451 - val_acc: 0.6886 - 855s/epoch - 315ms/step\n",
      "Epoch 7/10\n",
      "2716/2716 - 845s - loss: 0.0102 - acc: 0.9973 - val_loss: 1.3749 - val_acc: 0.6924 - 845s/epoch - 311ms/step\n",
      "Epoch 8/10\n",
      "2716/2716 - 866s - loss: 0.0094 - acc: 0.9977 - val_loss: 1.4327 - val_acc: 0.6706 - 866s/epoch - 319ms/step\n",
      "Epoch 9/10\n",
      "2716/2716 - 864s - loss: 0.0086 - acc: 0.9978 - val_loss: 1.4057 - val_acc: 0.7030 - 864s/epoch - 318ms/step\n",
      "Epoch 10/10\n",
      "2716/2716 - 869s - loss: 0.0072 - acc: 0.9981 - val_loss: 1.4693 - val_acc: 0.6622 - 869s/epoch - 320ms/step\n"
     ]
    }
   ],
   "source": [
    "history20 = cnn_lstm_model.fit(\n",
    "    x=train_gen,\n",
    "    validation_data=val_gen,\n",
    "    batch_size=GPU_BATCH_SIZE,\n",
    "    epochs=10,\n",
    "    verbose=2\n",
    ")"
   ]
  },
  {
   "cell_type": "code",
   "execution_count": 15,
   "metadata": {},
   "outputs": [],
   "source": [
    "cnn_lstm_model.save('models/cnn_lstm_mark_20.keras')"
   ]
  },
  {
   "cell_type": "code",
   "execution_count": 16,
   "metadata": {},
   "outputs": [
    {
     "name": "stdout",
     "output_type": "stream",
     "text": [
      "283/283 - 23s - loss: 1.5562 - acc: 0.6360 - 23s/epoch - 80ms/step\n"
     ]
    }
   ],
   "source": [
    "evals20 = cnn_lstm_model.evaluate(\n",
    "    test_gen,\n",
    "    batch_size=GPU_BATCH_SIZE,\n",
    "    verbose=2\n",
    ")"
   ]
  },
  {
   "cell_type": "code",
   "execution_count": 17,
   "metadata": {},
   "outputs": [
    {
     "data": {
      "text/plain": [
       "[1.498216986656189, 0.6468639373779297]"
      ]
     },
     "execution_count": 17,
     "metadata": {},
     "output_type": "execute_result"
    }
   ],
   "source": [
    "evals10"
   ]
  },
  {
   "cell_type": "code",
   "execution_count": 18,
   "metadata": {},
   "outputs": [
    {
     "data": {
      "text/plain": [
       "[1.5561892986297607, 0.6360424160957336]"
      ]
     },
     "execution_count": 18,
     "metadata": {},
     "output_type": "execute_result"
    }
   ],
   "source": [
    "evals20"
   ]
  },
  {
   "cell_type": "code",
   "execution_count": 42,
   "metadata": {},
   "outputs": [
    {
     "data": {
      "image/png": "[encoded data removed]",
      "text/plain": [
       "<Figure size 640x480 with 1 Axes>"
      ]
     },
     "metadata": {},
     "output_type": "display_data"
    },
    {
     "data": {
      "image/png": "[encoded data removed]",
      "text/plain": [
       "<Figure size 640x480 with 1 Axes>"
      ]
     },
     "metadata": {},
     "output_type": "display_data"
    }
   ],
   "source": [
    "import matplotlib.pyplot as plt\n",
    "\n",
    "# Combine history metrics for complete curves\n",
    "training_loss = history10.history['loss'] + history20.history['loss']\n",
    "val_loss = history10.history['val_loss'] + history20.history['val_loss']\n",
    "training_acc = history10.history['acc'] + history20.history['acc']\n",
    "val_acc = history10.history['val_acc'] + history20.history['val_acc']\n",
    "\n",
    "# Plotting loss and accuracy curves\n",
    "plt.figure()\n",
    "plt.plot(training_loss, 'o-b', label='Training Loss')\n",
    "plt.plot(val_loss, 'o-', color='orange', label='Validation Loss')\n",
    "plt.xlabel('Epochs')\n",
    "plt.ylabel('Loss')\n",
    "plt.legend()\n",
    "plt.title('Loss Curve')\n",
    "plt.show()\n",
    "\n",
    "plt.figure()\n",
    "plt.plot(training_acc, 'o-b', label='Training Accuracy')\n",
    "plt.plot(val_acc, 'o-', color='orange', label='Validation Accuracy')\n",
    "plt.xlabel('Epochs')\n",
    "plt.ylabel('Accuracy')\n",
    "plt.ylim((0, 1))\n",
    "plt.legend()\n",
    "plt.title('Accuracy Curve')\n",
    "plt.show()"
   ]
  },
  {
   "cell_type": "code",
   "execution_count": null,
   "metadata": {},
   "outputs": [],
   "source": []
  }
 ],
 "metadata": {
  "kernelspec": {
   "display_name": "acml_2024",
   "language": "python",
   "name": "python3"
  },
  "language_info": {
   "codemirror_mode": {
    "name": "ipython",
    "version": 3
   },
   "file_extension": ".py",
   "mimetype": "text/x-python",
   "name": "python",
   "nbconvert_exporter": "python",
   "pygments_lexer": "ipython3",
   "version": "3.9.7"
  }
 },
 "nbformat": 4,
 "nbformat_minor": 2
}
