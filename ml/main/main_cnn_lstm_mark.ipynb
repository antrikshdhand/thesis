{
 "cells": [
  {
   "cell_type": "code",
   "execution_count": 1,
   "metadata": {},
   "outputs": [],
   "source": [
    "import pandas as pd\n",
    "import keras\n",
    "\n",
    "from helpers import data, utils, generators"
   ]
  },
  {
   "cell_type": "code",
   "execution_count": 2,
   "metadata": {},
   "outputs": [],
   "source": [
    "NUM_FOLDS = 10\n",
    "NUM_EPOCHS = 3\n",
    "INPUT_SHAPE = (192, 192, 1)\n",
    "GPU_BATCH_SIZE = 16\n",
    "DATA_BATCH_SIZE = 16"
   ]
  },
  {
   "cell_type": "code",
   "execution_count": 7,
   "metadata": {},
   "outputs": [
    {
     "name": "stdout",
     "output_type": "stream",
     "text": [
      "Successfully loaded folds.\n",
      "\n"
     ]
    }
   ],
   "source": [
    "fold_dfs = data.get_fold_dfs(\n",
    "    fold_definition_csv='../data/DATASET_CSVS/deepship_5k_seg_3s.csv',\n",
    "    new_path_to_root='../data/deepship_baseline_unnorm_mat',\n",
    "    ext='mat',\n",
    "    unix=True,\n",
    "    label_encodings={0:'Tanker', 1:'Cargo', 2:'Tug', 3:'Passengership'},\n",
    "    n_folds=NUM_FOLDS\n",
    ")\n",
    "print('Successfully loaded folds.\\n')"
   ]
  },
  {
   "cell_type": "code",
   "execution_count": 8,
   "metadata": {},
   "outputs": [],
   "source": [
    "train_df = pd.concat(fold_dfs[2:])\n",
    "val_df = fold_dfs[1]\n",
    "test_df = fold_dfs[0]\n",
    "\n",
    "train_gen = generators.DeepShipGenerator(\n",
    "    train_df,\n",
    "    ext='mat',\n",
    "    mat_var_name='Ptrans',\n",
    "    batch_size=DATA_BATCH_SIZE\n",
    ")\n",
    "val_gen = generators.DeepShipGenerator(\n",
    "    val_df,\n",
    "    ext='mat',\n",
    "    mat_var_name='Ptrans',\n",
    "    batch_size=DATA_BATCH_SIZE\n",
    ")\n",
    "test_gen = generators.DeepShipGenerator(\n",
    "    test_df,\n",
    "    ext='mat',\n",
    "    mat_var_name='Ptrans',\n",
    "    batch_size=DATA_BATCH_SIZE\n",
    ")"
   ]
  },
  {
   "cell_type": "code",
   "execution_count": 9,
   "metadata": {},
   "outputs": [
    {
     "name": "stdout",
     "output_type": "stream",
     "text": [
      "Model: \"cnn_lstm\"\n",
      "_________________________________________________________________\n",
      " Layer (type)                Output Shape              Param #   \n",
      "=================================================================\n",
      " spec (InputLayer)           [(None, 192, 192, 1)]     0         \n",
      "                                                                 \n",
      " conv2d (Conv2D)             (None, 192, 192, 128)     3328      \n",
      "                                                                 \n",
      " batch_normalization (Batch  (None, 192, 192, 128)     512       \n",
      " Normalization)                                                  \n",
      "                                                                 \n",
      " activation (Activation)     (None, 192, 192, 128)     0         \n",
      "                                                                 \n",
      " max_pooling2d (MaxPooling2  (None, 96, 96, 128)       0         \n",
      " D)                                                              \n",
      "                                                                 \n",
      " conv2d_1 (Conv2D)           (None, 96, 96, 128)       409728    \n",
      "                                                                 \n",
      " batch_normalization_1 (Bat  (None, 96, 96, 128)       512       \n",
      " chNormalization)                                                \n",
      "                                                                 \n",
      " activation_1 (Activation)   (None, 96, 96, 128)       0         \n",
      "                                                                 \n",
      " max_pooling2d_1 (MaxPoolin  (None, 24, 48, 128)       0         \n",
      " g2D)                                                            \n",
      "                                                                 \n",
      " conv2d_2 (Conv2D)           (None, 24, 48, 256)       819456    \n",
      "                                                                 \n",
      " batch_normalization_2 (Bat  (None, 24, 48, 256)       1024      \n",
      " chNormalization)                                                \n",
      "                                                                 \n",
      " activation_2 (Activation)   (None, 24, 48, 256)       0         \n",
      "                                                                 \n",
      " max_pooling2d_2 (MaxPoolin  (None, 12, 24, 256)       0         \n",
      " g2D)                                                            \n",
      "                                                                 \n",
      " conv2d_3 (Conv2D)           (None, 12, 24, 256)       1638656   \n",
      "                                                                 \n",
      " batch_normalization_3 (Bat  (None, 12, 24, 256)       1024      \n",
      " chNormalization)                                                \n",
      "                                                                 \n",
      " activation_3 (Activation)   (None, 12, 24, 256)       0         \n",
      "                                                                 \n",
      " max_pooling2d_3 (MaxPoolin  (None, 3, 12, 256)        0         \n",
      " g2D)                                                            \n",
      "                                                                 \n",
      " layer_normalization (Layer  (None, 3, 12, 256)        512       \n",
      " Normalization)                                                  \n",
      "                                                                 \n",
      " reshape (Reshape)           (None, 3, 3072)           0         \n",
      "                                                                 \n",
      " lstm (LSTM)                 (None, 512)               7342080   \n",
      "                                                                 \n",
      " flatten (Flatten)           (None, 512)               0         \n",
      "                                                                 \n",
      " dense_all (Dense)           (None, 64)                32832     \n",
      "                                                                 \n",
      " classification (Dense)      (None, 4)                 260       \n",
      "                                                                 \n",
      "=================================================================\n",
      "Total params: 10249924 (39.10 MB)\n",
      "Trainable params: 10248388 (39.09 MB)\n",
      "Non-trainable params: 1536 (6.00 KB)\n",
      "_________________________________________________________________\n",
      "None\n"
     ]
    }
   ],
   "source": [
    "from models import cnn_lstm\n",
    "\n",
    "cnn_lstm_model = cnn_lstm.get_cnn_lstm(\n",
    "    input_shape=INPUT_SHAPE,\n",
    "    input_name='spec',\n",
    "    num_classes=4,\n",
    "    verbose=True\n",
    ")\n",
    "\n",
    "cnn_lstm_model.compile(\n",
    "    optimizer=keras.optimizers.legacy.Adam(learning_rate=1e-5),\n",
    "    loss=keras.losses.CategoricalCrossentropy(),\n",
    "    metrics=['acc']\n",
    ")"
   ]
  },
  {
   "cell_type": "code",
   "execution_count": 10,
   "metadata": {},
   "outputs": [
    {
     "name": "stdout",
     "output_type": "stream",
     "text": [
      "Epoch 1/3\n"
     ]
    },
    {
     "name": "stderr",
     "output_type": "stream",
     "text": [
      "2024-11-20 01:57:27.130035: I tensorflow/core/grappler/optimizers/custom_graph_optimizer_registry.cc:114] Plugin optimizer for device_type GPU is enabled.\n",
      "2024-11-20 01:57:28.589762: I tensorflow/core/grappler/optimizers/custom_graph_optimizer_registry.cc:114] Plugin optimizer for device_type GPU is enabled.\n",
      "2024-11-20 01:57:29.442801: I tensorflow/core/grappler/optimizers/custom_graph_optimizer_registry.cc:114] Plugin optimizer for device_type GPU is enabled.\n",
      "2024-11-20 02:08:43.271445: I tensorflow/core/grappler/optimizers/custom_graph_optimizer_registry.cc:114] Plugin optimizer for device_type GPU is enabled.\n",
      "2024-11-20 02:08:43.452858: I tensorflow/core/grappler/optimizers/custom_graph_optimizer_registry.cc:114] Plugin optimizer for device_type GPU is enabled.\n"
     ]
    },
    {
     "name": "stdout",
     "output_type": "stream",
     "text": [
      "2716/2716 - 701s - loss: 0.8063 - acc: 0.6733 - val_loss: 0.8330 - val_acc: 0.6511 - 701s/epoch - 258ms/step\n",
      "Epoch 2/3\n",
      "2716/2716 - 698s - loss: 0.5118 - acc: 0.8086 - val_loss: 0.7495 - val_acc: 0.7021 - 698s/epoch - 257ms/step\n",
      "Epoch 3/3\n",
      "2716/2716 - 695s - loss: 0.3485 - acc: 0.8778 - val_loss: 0.7961 - val_acc: 0.6904 - 695s/epoch - 256ms/step\n"
     ]
    }
   ],
   "source": [
    "keras.backend.clear_session()\n",
    "\n",
    "history = cnn_lstm_model.fit(\n",
    "    x=train_gen,\n",
    "    validation_data=val_gen,\n",
    "    batch_size=GPU_BATCH_SIZE,\n",
    "    epochs=NUM_EPOCHS,\n",
    "    verbose=2\n",
    ")"
   ]
  },
  {
   "cell_type": "code",
   "execution_count": 11,
   "metadata": {},
   "outputs": [
    {
     "name": "stdout",
     "output_type": "stream",
     "text": [
      "283/283 - 21s - loss: 0.8861 - acc: 0.6773 - 21s/epoch - 73ms/step\n"
     ]
    }
   ],
   "source": [
    "evals = cnn_lstm_model.evaluate(\n",
    "    test_gen,\n",
    "    batch_size=GPU_BATCH_SIZE,\n",
    "    verbose=2\n",
    ")"
   ]
  }
 ],
 "metadata": {
  "kernelspec": {
   "display_name": "virt",
   "language": "python",
   "name": "python3"
  },
  "language_info": {
   "codemirror_mode": {
    "name": "ipython",
    "version": 3
   },
   "file_extension": ".py",
   "mimetype": "text/x-python",
   "name": "python",
   "nbconvert_exporter": "python",
   "pygments_lexer": "ipython3",
   "version": "3.9.7"
  }
 },
 "nbformat": 4,
 "nbformat_minor": 2
}
