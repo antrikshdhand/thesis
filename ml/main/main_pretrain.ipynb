{
 "cells": [
  {
   "cell_type": "code",
   "execution_count": 1,
   "metadata": {},
   "outputs": [],
   "source": [
    "# Libraries\n",
    "import os\n",
    "import numpy as np\n",
    "import keras\n",
    "import tensorflow as tf\n",
    "from importlib import reload\n",
    "\n",
    "# Scripts\n",
    "from acml import data, runners, utils"
   ]
  },
  {
   "cell_type": "code",
   "execution_count": 2,
   "metadata": {},
   "outputs": [
    {
     "name": "stdout",
     "output_type": "stream",
     "text": [
      "Name: tensorflow\n",
      "Version: 2.10.1\n",
      "Summary: TensorFlow is an open source machine learning framework for everyone.\n",
      "Home-page: https://www.tensorflow.org/\n",
      "Author: Google Inc.\n",
      "Author-email: packages@tensorflow.org\n",
      "License: Apache 2.0\n",
      "Location: c:\\users\\sonar\\anaconda3v2\\envs\\acml_2024\\lib\\site-packages\n",
      "Requires: absl-py, astunparse, flatbuffers, gast, google-pasta, grpcio, h5py, keras, keras-preprocessing, libclang, numpy, opt-einsum, packaging, protobuf, setuptools, six, tensorboard, tensorflow-estimator, tensorflow-io-gcs-filesystem, termcolor, typing-extensions, wrapt\n",
      "Required-by: \n"
     ]
    }
   ],
   "source": [
    "!pip show tensorflow"
   ]
  },
  {
   "cell_type": "code",
   "execution_count": 4,
   "metadata": {},
   "outputs": [
    {
     "data": {
      "text/plain": [
       "<module 'acml.data' from 'c:\\\\Users\\\\sonar\\\\Desktop\\\\acml_2024_s2\\\\runner\\\\acml\\\\data.py'>"
      ]
     },
     "execution_count": 4,
     "metadata": {},
     "output_type": "execute_result"
    }
   ],
   "source": [
    "reload(data)"
   ]
  },
  {
   "cell_type": "code",
   "execution_count": 5,
   "metadata": {},
   "outputs": [
    {
     "data": {
      "text/plain": [
       "<module 'acml.runners' from 'c:\\\\Users\\\\sonar\\\\Desktop\\\\acml_2024_s2\\\\runner\\\\acml\\\\runners.py'>"
      ]
     },
     "execution_count": 5,
     "metadata": {},
     "output_type": "execute_result"
    }
   ],
   "source": [
    "reload(runners)"
   ]
  },
  {
   "cell_type": "code",
   "execution_count": 6,
   "metadata": {},
   "outputs": [
    {
     "data": {
      "text/plain": [
       "<module 'acml.utils' from 'c:\\\\Users\\\\sonar\\\\Desktop\\\\acml_2024_s2\\\\runner\\\\acml\\\\utils.py'>"
      ]
     },
     "execution_count": 6,
     "metadata": {},
     "output_type": "execute_result"
    }
   ],
   "source": [
    "reload(utils)"
   ]
  },
  {
   "cell_type": "markdown",
   "metadata": {},
   "source": [
    "## `main`"
   ]
  },
  {
   "cell_type": "code",
   "execution_count": 3,
   "metadata": {},
   "outputs": [
    {
     "name": "stdout",
     "output_type": "stream",
     "text": [
      "GPU DETECTED ✓\n"
     ]
    }
   ],
   "source": [
    "# Silence information messages from TensorFlow\n",
    "os.environ['TF_CPP_MIN_LOG_LEVEL'] = '1'\n",
    "\n",
    "# Check whether tf is using the GPU\n",
    "utils.check_gpu_use() "
   ]
  },
  {
   "cell_type": "markdown",
   "metadata": {},
   "source": [
    "### Load data"
   ]
  },
  {
   "cell_type": "code",
   "execution_count": 4,
   "metadata": {},
   "outputs": [
    {
     "name": "stderr",
     "output_type": "stream",
     "text": [
      "  0%|          | 0/1947 [00:00<?, ?it/s]"
     ]
    },
    {
     "name": "stderr",
     "output_type": "stream",
     "text": [
      "100%|██████████| 1947/1947 [00:11<00:00, 172.16it/s]\n",
      "100%|██████████| 4000/4000 [00:49<00:00, 81.34it/s] \n"
     ]
    }
   ],
   "source": [
    "import pandas as pd\n",
    "from tqdm import tqdm\n",
    "\n",
    "path = 'data/csv_qiandao_npz/kaiyuan'\n",
    "sub_folders = ['target', 'other']\n",
    "npz = True\n",
    "\n",
    "data_1D = []\n",
    "\n",
    "for folder in sub_folders:\n",
    "    subfolder_path = os.path.join(path, folder)\n",
    "    for datafile in tqdm(os.listdir(subfolder_path)):\n",
    "        datafile_path = os.path.join(subfolder_path, datafile)\n",
    "        if npz:\n",
    "            data_1D.append(np.load(datafile_path)['np_data'])\n",
    "        else:\n",
    "            data_1D.append(pd.read_csv(datafile_path, header=None).values)"
   ]
  },
  {
   "cell_type": "code",
   "execution_count": 5,
   "metadata": {},
   "outputs": [
    {
     "name": "stdout",
     "output_type": "stream",
     "text": [
      "(5947, 307, 512, 1)\n"
     ]
    }
   ],
   "source": [
    "specs = np.stack(data_1D)\n",
    "specs = np.expand_dims(specs, axis=-1)\n",
    "print(specs.shape)"
   ]
  },
  {
   "cell_type": "code",
   "execution_count": 6,
   "metadata": {},
   "outputs": [],
   "source": [
    "# Resize spectrograms to be square\n",
    "specs = np.resize(specs, (5947, 128, 128, 1))"
   ]
  },
  {
   "cell_type": "markdown",
   "metadata": {},
   "source": [
    "### Initialise model"
   ]
  },
  {
   "cell_type": "code",
   "execution_count": 8,
   "metadata": {},
   "outputs": [
    {
     "name": "stdout",
     "output_type": "stream",
     "text": [
      "Model: \"irfan_2020\"\n",
      "_________________________________________________________________\n",
      " Layer (type)                Output Shape              Param #   \n",
      "=================================================================\n",
      " input (InputLayer)          [(None, 128, 128, 1)]     0         \n",
      "                                                                 \n",
      " conv2d (Conv2D)             (None, 128, 128, 64)      640       \n",
      "                                                                 \n",
      " activation (Activation)     (None, 128, 128, 64)      0         \n",
      "                                                                 \n",
      " batch_normalization (BatchN  (None, 128, 128, 64)     256       \n",
      " ormalization)                                                   \n",
      "                                                                 \n",
      " max_pooling2d (MaxPooling2D  (None, 64, 64, 64)       0         \n",
      " )                                                               \n",
      "                                                                 \n",
      " conv2d_1 (Conv2D)           (None, 64, 64, 64)        36928     \n",
      "                                                                 \n",
      " activation_1 (Activation)   (None, 64, 64, 64)        0         \n",
      "                                                                 \n",
      " batch_normalization_1 (Batc  (None, 64, 64, 64)       256       \n",
      " hNormalization)                                                 \n",
      "                                                                 \n",
      " max_pooling2d_1 (MaxPooling  (None, 32, 32, 64)       0         \n",
      " 2D)                                                             \n",
      "                                                                 \n",
      " conv2d_2 (Conv2D)           (None, 32, 32, 64)        36928     \n",
      "                                                                 \n",
      " activation_2 (Activation)   (None, 32, 32, 64)        0         \n",
      "                                                                 \n",
      " batch_normalization_2 (Batc  (None, 32, 32, 64)       256       \n",
      " hNormalization)                                                 \n",
      "                                                                 \n",
      " encoder_output (MaxPooling2  (None, 16, 16, 64)       0         \n",
      " D)                                                              \n",
      "                                                                 \n",
      " conv2d_transpose (Conv2DTra  (None, 16, 16, 128)      73856     \n",
      " nspose)                                                         \n",
      "                                                                 \n",
      " activation_3 (Activation)   (None, 16, 16, 128)       0         \n",
      "                                                                 \n",
      " batch_normalization_3 (Batc  (None, 16, 16, 128)      512       \n",
      " hNormalization)                                                 \n",
      "                                                                 \n",
      " up_sampling2d (UpSampling2D  (None, 32, 32, 128)      0         \n",
      " )                                                               \n",
      "                                                                 \n",
      " conv2d_transpose_1 (Conv2DT  (None, 32, 32, 64)       73792     \n",
      " ranspose)                                                       \n",
      "                                                                 \n",
      " activation_4 (Activation)   (None, 32, 32, 64)        0         \n",
      "                                                                 \n",
      " batch_normalization_4 (Batc  (None, 32, 32, 64)       256       \n",
      " hNormalization)                                                 \n",
      "                                                                 \n",
      " up_sampling2d_1 (UpSampling  (None, 64, 64, 64)       0         \n",
      " 2D)                                                             \n",
      "                                                                 \n",
      " conv2d_transpose_2 (Conv2DT  (None, 64, 64, 64)       36928     \n",
      " ranspose)                                                       \n",
      "                                                                 \n",
      " activation_5 (Activation)   (None, 64, 64, 64)        0         \n",
      "                                                                 \n",
      " batch_normalization_5 (Batc  (None, 64, 64, 64)       256       \n",
      " hNormalization)                                                 \n",
      "                                                                 \n",
      " up_sampling2d_2 (UpSampling  (None, 128, 128, 64)     0         \n",
      " 2D)                                                             \n",
      "                                                                 \n",
      " conv2d_transpose_3 (Conv2DT  (None, 128, 128, 1)      577       \n",
      " ranspose)                                                       \n",
      "                                                                 \n",
      " activation_6 (Activation)   (None, 128, 128, 1)       0         \n",
      "                                                                 \n",
      " decoder_output (BatchNormal  (None, 128, 128, 1)      4         \n",
      " ization)                                                        \n",
      "                                                                 \n",
      "=================================================================\n",
      "Total params: 261,445\n",
      "Trainable params: 260,547\n",
      "Non-trainable params: 898\n",
      "_________________________________________________________________\n",
      "None\n"
     ]
    }
   ],
   "source": [
    "from models import irfan_2020_modified \n",
    "reload(irfan_2020_modified)\n",
    "\n",
    "irfan = irfan_2020_modified.get_compiled_model_128()\n",
    "print(irfan.summary())"
   ]
  },
  {
   "cell_type": "markdown",
   "metadata": {},
   "source": [
    "### Configure and fit model"
   ]
  },
  {
   "cell_type": "code",
   "execution_count": 9,
   "metadata": {},
   "outputs": [
    {
     "name": "stdout",
     "output_type": "stream",
     "text": [
      "Epoch 1/20\n",
      "372/372 - 24s - loss: 24.4388 - accuracy: 0.0000e+00 - 24s/epoch - 64ms/step\n",
      "Epoch 2/20\n",
      "372/372 - 14s - loss: 17.0931 - accuracy: 0.0000e+00 - 14s/epoch - 38ms/step\n",
      "Epoch 3/20\n",
      "372/372 - 15s - loss: 13.6607 - accuracy: 0.0000e+00 - 15s/epoch - 40ms/step\n",
      "Epoch 4/20\n",
      "372/372 - 15s - loss: 11.0598 - accuracy: 0.0000e+00 - 15s/epoch - 42ms/step\n",
      "Epoch 5/20\n",
      "372/372 - 15s - loss: 9.0912 - accuracy: 1.0263e-08 - 15s/epoch - 41ms/step\n",
      "Epoch 6/20\n",
      "372/372 - 15s - loss: 7.4947 - accuracy: 2.0526e-08 - 15s/epoch - 40ms/step\n",
      "Epoch 7/20\n",
      "372/372 - 15s - loss: 6.2839 - accuracy: 2.0526e-08 - 15s/epoch - 40ms/step\n",
      "Epoch 8/20\n",
      "372/372 - 15s - loss: 5.3481 - accuracy: 2.0526e-08 - 15s/epoch - 40ms/step\n",
      "Epoch 9/20\n",
      "372/372 - 15s - loss: 4.5928 - accuracy: 1.0263e-08 - 15s/epoch - 41ms/step\n",
      "Epoch 10/20\n",
      "372/372 - 16s - loss: 4.0318 - accuracy: 2.0526e-08 - 16s/epoch - 42ms/step\n",
      "Epoch 11/20\n",
      "372/372 - 15s - loss: 3.6585 - accuracy: 2.0526e-08 - 15s/epoch - 42ms/step\n",
      "Epoch 12/20\n",
      "372/372 - 16s - loss: 3.3288 - accuracy: 2.0526e-08 - 16s/epoch - 42ms/step\n",
      "Epoch 13/20\n",
      "372/372 - 16s - loss: 3.1540 - accuracy: 2.0526e-08 - 16s/epoch - 43ms/step\n",
      "Epoch 14/20\n",
      "372/372 - 16s - loss: 2.9354 - accuracy: 2.0526e-08 - 16s/epoch - 43ms/step\n",
      "Epoch 15/20\n",
      "372/372 - 16s - loss: 2.8398 - accuracy: 2.0526e-08 - 16s/epoch - 43ms/step\n",
      "Epoch 16/20\n",
      "372/372 - 16s - loss: 2.8673 - accuracy: 2.0526e-08 - 16s/epoch - 43ms/step\n",
      "Epoch 17/20\n",
      "372/372 - 16s - loss: 2.7082 - accuracy: 1.0263e-08 - 16s/epoch - 44ms/step\n",
      "Epoch 18/20\n",
      "372/372 - 16s - loss: 2.6080 - accuracy: 2.0526e-08 - 16s/epoch - 44ms/step\n",
      "Epoch 19/20\n",
      "372/372 - 16s - loss: 2.6348 - accuracy: 0.0000e+00 - 16s/epoch - 44ms/step\n",
      "Epoch 20/20\n",
      "372/372 - 16s - loss: 2.5736 - accuracy: 0.0000e+00 - 16s/epoch - 44ms/step\n"
     ]
    }
   ],
   "source": [
    "# with tf.device('/CPU:0'):\n",
    "history = irfan.fit(\n",
    "    x=specs,\n",
    "    y=specs,\n",
    "    batch_size=16,\n",
    "    epochs=20,\n",
    "    verbose=2\n",
    ")"
   ]
  },
  {
   "cell_type": "code",
   "execution_count": 10,
   "metadata": {},
   "outputs": [],
   "source": [
    "keras.models.save_model(irfan, 'models\\keras\\irfan_pretrain.keras')"
   ]
  },
  {
   "cell_type": "markdown",
   "metadata": {},
   "source": [
    "### Calculate metrics"
   ]
  },
  {
   "cell_type": "code",
   "execution_count": 11,
   "metadata": {},
   "outputs": [
    {
     "name": "stderr",
     "output_type": "stream",
     "text": [
      "C:\\Users\\sonar\\AppData\\Local\\Temp\\ipykernel_27612\\3924299184.py:4: UserWarning: FigureCanvasAgg is non-interactive, and thus cannot be shown\n",
      "  fig.show()\n"
     ]
    },
    {
     "data": {
      "image/png": "[encoded data removed]",
      "text/plain": [
       "<Figure size 640x480 with 1 Axes>"
      ]
     },
     "metadata": {},
     "output_type": "display_data"
    }
   ],
   "source": [
    "reload(utils)\n",
    "\n",
    "fig = utils.get_loss_curve(history)\n",
    "fig.show()"
   ]
  }
 ],
 "metadata": {
  "kernelspec": {
   "display_name": "acml_2024",
   "language": "python",
   "name": "python3"
  },
  "language_info": {
   "codemirror_mode": {
    "name": "ipython",
    "version": 3
   },
   "file_extension": ".py",
   "mimetype": "text/x-python",
   "name": "python",
   "nbconvert_exporter": "python",
   "pygments_lexer": "ipython3",
   "version": "3.9.7"
  }
 },
 "nbformat": 4,
 "nbformat_minor": 2
}
