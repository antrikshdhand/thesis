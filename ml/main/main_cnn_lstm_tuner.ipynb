{
 "cells": [
  {
   "cell_type": "markdown",
   "metadata": {},
   "source": [
    "### Imports"
   ]
  },
  {
   "cell_type": "code",
   "execution_count": 6,
   "metadata": {},
   "outputs": [],
   "source": [
    "# Libraries\n",
    "import os\n",
    "from importlib import reload\n",
    "import keras\n",
    "import tensorflow as tf\n",
    "import pandas as pd\n",
    "import numpy as np\n",
    "\n",
    "# Scripts\n",
    "from acml import data, runners, utils"
   ]
  },
  {
   "cell_type": "code",
   "execution_count": 7,
   "metadata": {},
   "outputs": [
    {
     "name": "stdout",
     "output_type": "stream",
     "text": [
      "Name: tensorflow\n",
      "Version: 2.10.1\n",
      "Summary: TensorFlow is an open source machine learning framework for everyone.\n",
      "Home-page: https://www.tensorflow.org/\n",
      "Author: Google Inc.\n",
      "Author-email: packages@tensorflow.org\n",
      "License: Apache 2.0\n",
      "Location: c:\\users\\sonar\\anaconda3v2\\envs\\acml_2024\\lib\\site-packages\n",
      "Requires: absl-py, astunparse, flatbuffers, gast, google-pasta, grpcio, h5py, keras, keras-preprocessing, libclang, numpy, opt-einsum, packaging, protobuf, setuptools, six, tensorboard, tensorflow-estimator, tensorflow-io-gcs-filesystem, termcolor, typing-extensions, wrapt\n",
      "Required-by: \n"
     ]
    }
   ],
   "source": [
    "!pip show tensorflow"
   ]
  },
  {
   "cell_type": "code",
   "execution_count": 8,
   "metadata": {},
   "outputs": [
    {
     "name": "stdout",
     "output_type": "stream",
     "text": [
      "Name: keras\n",
      "Version: 2.10.0\n",
      "Summary: Deep learning for humans.\n",
      "Home-page: https://keras.io/\n",
      "Author: Keras team\n",
      "Author-email: keras-users@googlegroups.com\n",
      "License: Apache 2.0\n",
      "Location: c:\\users\\sonar\\anaconda3v2\\envs\\acml_2024\\lib\\site-packages\n",
      "Requires: \n",
      "Required-by: keras-tuner, tensorflow\n"
     ]
    }
   ],
   "source": [
    "!pip show keras"
   ]
  },
  {
   "cell_type": "code",
   "execution_count": 9,
   "metadata": {},
   "outputs": [
    {
     "data": {
      "text/plain": [
       "<module 'acml.data' from 'c:\\\\Users\\\\sonar\\\\Desktop\\\\acml_2024_s2\\\\runner\\\\acml\\\\data.py'>"
      ]
     },
     "execution_count": 9,
     "metadata": {},
     "output_type": "execute_result"
    }
   ],
   "source": [
    "reload(data)"
   ]
  },
  {
   "cell_type": "code",
   "execution_count": 10,
   "metadata": {},
   "outputs": [
    {
     "data": {
      "text/plain": [
       "<module 'acml.runners' from 'c:\\\\Users\\\\sonar\\\\Desktop\\\\acml_2024_s2\\\\runner\\\\acml\\\\runners.py'>"
      ]
     },
     "execution_count": 10,
     "metadata": {},
     "output_type": "execute_result"
    }
   ],
   "source": [
    "reload(runners)"
   ]
  },
  {
   "cell_type": "markdown",
   "metadata": {},
   "source": [
    "## `main`"
   ]
  },
  {
   "cell_type": "code",
   "execution_count": 11,
   "metadata": {},
   "outputs": [
    {
     "name": "stdout",
     "output_type": "stream",
     "text": [
      "GPU DETECTED ✓\n"
     ]
    }
   ],
   "source": [
    "# Silence information messages from TensorFlow\n",
    "os.environ['TF_CPP_MIN_LOG_LEVEL'] = '1'\n",
    "\n",
    "# Check whether tf is using the GPU\n",
    "utils.check_gpu_use() \n"
   ]
  },
  {
   "cell_type": "markdown",
   "metadata": {},
   "source": [
    "### Load data"
   ]
  },
  {
   "cell_type": "code",
   "execution_count": 12,
   "metadata": {},
   "outputs": [],
   "source": [
    "NUM_FOLDS = 10"
   ]
  },
  {
   "cell_type": "code",
   "execution_count": 13,
   "metadata": {},
   "outputs": [
    {
     "name": "stdout",
     "output_type": "stream",
     "text": [
      "Successfully loaded folds with spectrograms.\n",
      "\n"
     ]
    }
   ],
   "source": [
    "# FULL DATASET:\n",
    "# --- Takes _ minutes to run with data in csv --- #\n",
    "# --- Takes 6 minutes to run with data in npz --- #\n",
    "\n",
    "fold_dfs = data.get_fold_dfs_with_data(\n",
    "    fold_definition_csv='data/deepship_5k_seg_3s.csv',\n",
    "    new_path_to_root='data/csv_deepship_psd_npz',\n",
    "    npz=True,\n",
    "    label_encodings={0:'Tanker', 1:'Cargo', 2:'Tug', 3:'Passengership'},\n",
    "    n_folds=NUM_FOLDS\n",
    ")\n",
    "print('Successfully loaded folds with spectrograms.\\n')"
   ]
  },
  {
   "cell_type": "code",
   "execution_count": 40,
   "metadata": {},
   "outputs": [],
   "source": [
    "# import cv2\n",
    "# for df in fold_dfs:\n",
    "#     df['spectrogram'] = df['spectrogram'].apply(lambda x: cv2.resize(x, (128, 128)))"
   ]
  },
  {
   "cell_type": "code",
   "execution_count": 14,
   "metadata": {},
   "outputs": [
    {
     "data": {
      "text/plain": [
       "(116, 100)"
      ]
     },
     "execution_count": 14,
     "metadata": {},
     "output_type": "execute_result"
    }
   ],
   "source": [
    "fold_dfs[0]['spectrogram'][0].shape"
   ]
  },
  {
   "cell_type": "code",
   "execution_count": 15,
   "metadata": {},
   "outputs": [
    {
     "data": {
      "text/html": [
       "<div>\n",
       "<style scoped>\n",
       "    .dataframe tbody tr th:only-of-type {\n",
       "        vertical-align: middle;\n",
       "    }\n",
       "\n",
       "    .dataframe tbody tr th {\n",
       "        vertical-align: top;\n",
       "    }\n",
       "\n",
       "    .dataframe thead th {\n",
       "        text-align: right;\n",
       "    }\n",
       "</style>\n",
       "<table border=\"1\" class=\"dataframe\">\n",
       "  <thead>\n",
       "    <tr style=\"text-align: right;\">\n",
       "      <th></th>\n",
       "      <th>Cargo</th>\n",
       "      <th>Passengership</th>\n",
       "      <th>Tanker</th>\n",
       "      <th>Tug</th>\n",
       "      <th>spectrogram</th>\n",
       "    </tr>\n",
       "  </thead>\n",
       "  <tbody>\n",
       "    <tr>\n",
       "      <th>0</th>\n",
       "      <td>0</td>\n",
       "      <td>1</td>\n",
       "      <td>0</td>\n",
       "      <td>0</td>\n",
       "      <td>[[-61.4701110244397, -69.4606846462652, -64.82...</td>\n",
       "    </tr>\n",
       "    <tr>\n",
       "      <th>1</th>\n",
       "      <td>0</td>\n",
       "      <td>1</td>\n",
       "      <td>0</td>\n",
       "      <td>0</td>\n",
       "      <td>[[-53.0530004443909, -52.0373175079799, -49.98...</td>\n",
       "    </tr>\n",
       "    <tr>\n",
       "      <th>2</th>\n",
       "      <td>0</td>\n",
       "      <td>1</td>\n",
       "      <td>0</td>\n",
       "      <td>0</td>\n",
       "      <td>[[-70.4963084080672, -68.487216890753, -65.003...</td>\n",
       "    </tr>\n",
       "    <tr>\n",
       "      <th>3</th>\n",
       "      <td>0</td>\n",
       "      <td>1</td>\n",
       "      <td>0</td>\n",
       "      <td>0</td>\n",
       "      <td>[[-60.1075427126643, -53.2378802812778, -53.97...</td>\n",
       "    </tr>\n",
       "    <tr>\n",
       "      <th>4</th>\n",
       "      <td>0</td>\n",
       "      <td>1</td>\n",
       "      <td>0</td>\n",
       "      <td>0</td>\n",
       "      <td>[[-45.4194339406413, -47.3021866694952, -47.65...</td>\n",
       "    </tr>\n",
       "    <tr>\n",
       "      <th>...</th>\n",
       "      <td>...</td>\n",
       "      <td>...</td>\n",
       "      <td>...</td>\n",
       "      <td>...</td>\n",
       "      <td>...</td>\n",
       "    </tr>\n",
       "    <tr>\n",
       "      <th>28903</th>\n",
       "      <td>0</td>\n",
       "      <td>0</td>\n",
       "      <td>1</td>\n",
       "      <td>0</td>\n",
       "      <td>[[-44.469157661851, -47.7828338363683, -49.551...</td>\n",
       "    </tr>\n",
       "    <tr>\n",
       "      <th>28904</th>\n",
       "      <td>0</td>\n",
       "      <td>0</td>\n",
       "      <td>1</td>\n",
       "      <td>0</td>\n",
       "      <td>[[-45.1544400339298, -41.4536694314034, -37.66...</td>\n",
       "    </tr>\n",
       "    <tr>\n",
       "      <th>28905</th>\n",
       "      <td>0</td>\n",
       "      <td>0</td>\n",
       "      <td>1</td>\n",
       "      <td>0</td>\n",
       "      <td>[[-46.100093830703, -47.9903366244218, -50.018...</td>\n",
       "    </tr>\n",
       "    <tr>\n",
       "      <th>28906</th>\n",
       "      <td>0</td>\n",
       "      <td>0</td>\n",
       "      <td>1</td>\n",
       "      <td>0</td>\n",
       "      <td>[[-50.131997022499, -48.1243386917267, -44.999...</td>\n",
       "    </tr>\n",
       "    <tr>\n",
       "      <th>28907</th>\n",
       "      <td>0</td>\n",
       "      <td>0</td>\n",
       "      <td>1</td>\n",
       "      <td>0</td>\n",
       "      <td>[[-30.1063638274996, -26.9429327927549, -26.82...</td>\n",
       "    </tr>\n",
       "  </tbody>\n",
       "</table>\n",
       "<p>28908 rows × 5 columns</p>\n",
       "</div>"
      ],
      "text/plain": [
       "       Cargo  Passengership  Tanker  Tug  \\\n",
       "0          0              1       0    0   \n",
       "1          0              1       0    0   \n",
       "2          0              1       0    0   \n",
       "3          0              1       0    0   \n",
       "4          0              1       0    0   \n",
       "...      ...            ...     ...  ...   \n",
       "28903      0              0       1    0   \n",
       "28904      0              0       1    0   \n",
       "28905      0              0       1    0   \n",
       "28906      0              0       1    0   \n",
       "28907      0              0       1    0   \n",
       "\n",
       "                                             spectrogram  \n",
       "0      [[-61.4701110244397, -69.4606846462652, -64.82...  \n",
       "1      [[-53.0530004443909, -52.0373175079799, -49.98...  \n",
       "2      [[-70.4963084080672, -68.487216890753, -65.003...  \n",
       "3      [[-60.1075427126643, -53.2378802812778, -53.97...  \n",
       "4      [[-45.4194339406413, -47.3021866694952, -47.65...  \n",
       "...                                                  ...  \n",
       "28903  [[-44.469157661851, -47.7828338363683, -49.551...  \n",
       "28904  [[-45.1544400339298, -41.4536694314034, -37.66...  \n",
       "28905  [[-46.100093830703, -47.9903366244218, -50.018...  \n",
       "28906  [[-50.131997022499, -48.1243386917267, -44.999...  \n",
       "28907  [[-30.1063638274996, -26.9429327927549, -26.82...  \n",
       "\n",
       "[28908 rows x 5 columns]"
      ]
     },
     "execution_count": 15,
     "metadata": {},
     "output_type": "execute_result"
    }
   ],
   "source": [
    "all_data = pd.concat(fold_dfs, ignore_index=True)\n",
    "all_data"
   ]
  },
  {
   "cell_type": "code",
   "execution_count": 16,
   "metadata": {},
   "outputs": [],
   "source": [
    "classes = ['Cargo', 'Passengership', 'Tanker', 'Tug']\n",
    "\n",
    "X = all_data['spectrogram'].to_numpy(copy=True)\n",
    "X = np.stack(X)\n",
    "\n",
    "# (number of samples, number of time bins, number of freqs, channel)\n",
    "X = np.expand_dims(X, axis=-1) \n",
    "\n",
    "y = all_data[classes].to_numpy(copy=True)"
   ]
  },
  {
   "cell_type": "code",
   "execution_count": 17,
   "metadata": {},
   "outputs": [
    {
     "name": "stdout",
     "output_type": "stream",
     "text": [
      "(28908, 116, 100, 1)\n",
      "(28908, 4)\n"
     ]
    }
   ],
   "source": [
    "print(X.shape)\n",
    "print(y.shape)"
   ]
  },
  {
   "cell_type": "code",
   "execution_count": 18,
   "metadata": {},
   "outputs": [
    {
     "data": {
      "text/plain": [
       "4619.8"
      ]
     },
     "execution_count": 18,
     "metadata": {},
     "output_type": "execute_result"
    }
   ],
   "source": [
    "0.2*23099"
   ]
  },
  {
   "cell_type": "code",
   "execution_count": 19,
   "metadata": {},
   "outputs": [
    {
     "name": "stdout",
     "output_type": "stream",
     "text": [
      "(4620, 116, 100, 1)\n",
      "(4620, 4)\n",
      "(24288, 116, 100, 1)\n",
      "(24288, 4)\n"
     ]
    }
   ],
   "source": [
    "X_train = X[:4620]\n",
    "y_train = y[:4620]\n",
    "\n",
    "X_test = X[4620:]\n",
    "y_test = y[4620:]\n",
    "\n",
    "print(X_train.shape)\n",
    "print(y_train.shape)\n",
    "print(X_test.shape)\n",
    "print(y_test.shape)"
   ]
  },
  {
   "cell_type": "markdown",
   "metadata": {},
   "source": [
    "### Perform hyperparameter tuning"
   ]
  },
  {
   "cell_type": "code",
   "execution_count": 21,
   "metadata": {},
   "outputs": [],
   "source": [
    "from keras_tuner import RandomSearch\n",
    "from models import cnn_lstm\n",
    "from keras import layers"
   ]
  },
  {
   "cell_type": "code",
   "execution_count": 22,
   "metadata": {},
   "outputs": [],
   "source": [
    "def build_model(hp):\n",
    "    input_layer = layers.Input(shape=(116, 100, 1), name='psd')\n",
    "\n",
    "    # CNN Layers\n",
    "    conv_2d = cnn_lstm._get_cnn_layers(\n",
    "        input_layer,\n",
    "        filter_size=(5, 5),\n",
    "        num_filters=hp.Choice('num_filters', [64, 128])\n",
    "    )\n",
    "    \n",
    "    layer_norm = layers.LayerNormalization()(conv_2d)\n",
    "    layer_norm = layers.Reshape([-1, layer_norm.shape[2] * layer_norm.shape[3]])(layer_norm)\n",
    "\n",
    "    # LSTM Layer\n",
    "    lstm_units = hp.Choice('lstm_units', [512, 1024])\n",
    "    fwd_lstm_layer = layers.LSTM(lstm_units, activation='tanh')(layer_norm)\n",
    "\n",
    "    flatten = layers.Flatten(name=\"flatten\")(fwd_lstm_layer)\n",
    "\n",
    "    # Dense Layer\n",
    "    dense_units = hp.Choice('dense_units', [32, 64, 128])\n",
    "    dense = layers.Dense(dense_units, activation='relu')(flatten)\n",
    "    \n",
    "    # Classification Output\n",
    "    classification = layers.Dense(4, activation=\"softmax\", name=\"classification\")(dense)\n",
    "\n",
    "    model = keras.Model([input_layer], [classification], name=\"cnn_lstm\")\n",
    "    \n",
    "    # Select optimizer and learning rate\n",
    "    learning_rate = hp.Choice('learning_rate', [1e-5, 1e-4, 1e-3, 1e-2])\n",
    "    optimizer = tf.keras.optimizers.Adam(learning_rate=learning_rate)\n",
    "\n",
    "    # Compile the model\n",
    "    model.compile(\n",
    "        optimizer=optimizer,\n",
    "        loss=\"categorical_crossentropy\",\n",
    "        metrics=[\"accuracy\"]\n",
    "    )    \n",
    "\n",
    "    return model\n"
   ]
  },
  {
   "cell_type": "code",
   "execution_count": 24,
   "metadata": {},
   "outputs": [
    {
     "name": "stdout",
     "output_type": "stream",
     "text": [
      "Trial 20 Complete [00h 19m 38s]\n",
      "val_accuracy: 0.549489438533783\n",
      "\n",
      "Best val_accuracy So Far: 0.5661643743515015\n",
      "Total elapsed time: 02h 27m 38s\n"
     ]
    }
   ],
   "source": [
    "# Set up Keras Tuner\n",
    "tuner = RandomSearch(\n",
    "    build_model,\n",
    "    objective=\"val_accuracy\",\n",
    "    max_trials=20,\n",
    "    executions_per_trial=1,\n",
    "    directory=\"tuner_results\",\n",
    "    project_name=\"cnn_lstm_hyperparameter_tuning\"\n",
    ")\n",
    "\n",
    "# Start the search\n",
    "tuner.search(X_train, y_train, epochs=10, validation_data=(X_test, y_test), callbacks=[cnn_lstm.callback_early_stop()])"
   ]
  },
  {
   "cell_type": "code",
   "execution_count": 25,
   "metadata": {},
   "outputs": [
    {
     "name": "stdout",
     "output_type": "stream",
     "text": [
      "Search space summary\n",
      "Default search space size: 7\n",
      "filter_size (Choice)\n",
      "{'default': 3, 'conditions': [], 'values': [3, 5, 7], 'ordered': True}\n",
      "num_filters (Choice)\n",
      "{'default': 32, 'conditions': [], 'values': [32, 64, 128, 256], 'ordered': True}\n",
      "lstm_units (Choice)\n",
      "{'default': 256, 'conditions': [], 'values': [256, 512, 1024, 2048], 'ordered': True}\n",
      "dense_units (Choice)\n",
      "{'default': 32, 'conditions': [], 'values': [32, 64, 128, 256], 'ordered': True}\n",
      "dense_activation (Choice)\n",
      "{'default': 'relu', 'conditions': [], 'values': ['relu', 'tanh'], 'ordered': False}\n",
      "optimizer (Choice)\n",
      "{'default': 'adam', 'conditions': [], 'values': ['adam', 'rmsprop', 'sgd'], 'ordered': False}\n",
      "learning_rate (Choice)\n",
      "{'default': 1e-05, 'conditions': [], 'values': [1e-05, 0.0001, 0.001, 0.01], 'ordered': True}\n"
     ]
    }
   ],
   "source": [
    "tuner.search_space_summary()"
   ]
  },
  {
   "cell_type": "code",
   "execution_count": 26,
   "metadata": {},
   "outputs": [
    {
     "data": {
      "text/plain": [
       "[<keras.engine.functional.Functional at 0x145277b6f40>,\n",
       " <keras.engine.functional.Functional at 0x14532bacca0>,\n",
       " <keras.engine.functional.Functional at 0x145324854f0>,\n",
       " <keras.engine.functional.Functional at 0x1453249a280>,\n",
       " <keras.engine.functional.Functional at 0x145289b6100>]"
      ]
     },
     "execution_count": 26,
     "metadata": {},
     "output_type": "execute_result"
    }
   ],
   "source": [
    "models = tuner.get_best_models(num_models=5)\n",
    "models\n"
   ]
  },
  {
   "cell_type": "code",
   "execution_count": 28,
   "metadata": {},
   "outputs": [
    {
     "name": "stdout",
     "output_type": "stream",
     "text": [
      "Results summary\n",
      "Results in tuner_results\\cnn_lstm_hyperparameter_tuning\n",
      "Showing 10 best trials\n",
      "Objective(name=\"val_accuracy\", direction=\"max\")\n",
      "\n",
      "Trial 08 summary\n",
      "Hyperparameters:\n",
      "filter_size: 5\n",
      "num_filters: 128\n",
      "lstm_units: 512\n",
      "dense_units: 64\n",
      "dense_activation: relu\n",
      "optimizer: adam\n",
      "learning_rate: 1e-05\n",
      "Score: 0.5661643743515015\n",
      "\n",
      "Trial 07 summary\n",
      "Hyperparameters:\n",
      "filter_size: 3\n",
      "num_filters: 128\n",
      "lstm_units: 1024\n",
      "dense_units: 32\n",
      "dense_activation: relu\n",
      "optimizer: adam\n",
      "learning_rate: 0.001\n",
      "Score: 0.551342248916626\n",
      "\n",
      "Trial 17 summary\n",
      "Hyperparameters:\n",
      "filter_size: 3\n",
      "num_filters: 32\n",
      "lstm_units: 1024\n",
      "dense_units: 256\n",
      "dense_activation: tanh\n",
      "optimizer: sgd\n",
      "learning_rate: 0.01\n",
      "Score: 0.5511363744735718\n",
      "\n",
      "Trial 16 summary\n",
      "Hyperparameters:\n",
      "filter_size: 7\n",
      "num_filters: 64\n",
      "lstm_units: 512\n",
      "dense_units: 64\n",
      "dense_activation: relu\n",
      "optimizer: sgd\n",
      "learning_rate: 0.001\n",
      "Score: 0.5507246255874634\n",
      "\n",
      "Trial 19 summary\n",
      "Hyperparameters:\n",
      "filter_size: 3\n",
      "num_filters: 256\n",
      "lstm_units: 2048\n",
      "dense_units: 64\n",
      "dense_activation: tanh\n",
      "optimizer: rmsprop\n",
      "learning_rate: 0.001\n",
      "Score: 0.549489438533783\n",
      "\n",
      "Trial 01 summary\n",
      "Hyperparameters:\n",
      "filter_size: 7\n",
      "num_filters: 32\n",
      "lstm_units: 256\n",
      "dense_units: 128\n",
      "dense_activation: tanh\n",
      "optimizer: rmsprop\n",
      "learning_rate: 1e-05\n",
      "Score: 0.5459898114204407\n",
      "\n",
      "Trial 14 summary\n",
      "Hyperparameters:\n",
      "filter_size: 7\n",
      "num_filters: 64\n",
      "lstm_units: 512\n",
      "dense_units: 32\n",
      "dense_activation: relu\n",
      "optimizer: rmsprop\n",
      "learning_rate: 0.0001\n",
      "Score: 0.5440546870231628\n",
      "\n",
      "Trial 10 summary\n",
      "Hyperparameters:\n",
      "filter_size: 3\n",
      "num_filters: 64\n",
      "lstm_units: 512\n",
      "dense_units: 256\n",
      "dense_activation: relu\n",
      "optimizer: adam\n",
      "learning_rate: 0.001\n",
      "Score: 0.5327321887016296\n",
      "\n",
      "Trial 02 summary\n",
      "Hyperparameters:\n",
      "filter_size: 5\n",
      "num_filters: 32\n",
      "lstm_units: 256\n",
      "dense_units: 256\n",
      "dense_activation: tanh\n",
      "optimizer: sgd\n",
      "learning_rate: 0.001\n",
      "Score: 0.5207098126411438\n",
      "\n",
      "Trial 06 summary\n",
      "Hyperparameters:\n",
      "filter_size: 5\n",
      "num_filters: 128\n",
      "lstm_units: 256\n",
      "dense_units: 128\n",
      "dense_activation: relu\n",
      "optimizer: adam\n",
      "learning_rate: 0.001\n",
      "Score: 0.5128046870231628\n"
     ]
    }
   ],
   "source": [
    "tuner.results_summary()"
   ]
  },
  {
   "cell_type": "code",
   "execution_count": 27,
   "metadata": {},
   "outputs": [
    {
     "name": "stdout",
     "output_type": "stream",
     "text": [
      "Model: \"cnn_lstm\"\n",
      "_________________________________________________________________\n",
      " Layer (type)                Output Shape              Param #   \n",
      "=================================================================\n",
      " psd (InputLayer)            [(None, 116, 100, 1)]     0         \n",
      "                                                                 \n",
      " conv2d (Conv2D)             (None, 116, 100, 128)     3328      \n",
      "                                                                 \n",
      " batch_normalization (BatchN  (None, 116, 100, 128)    512       \n",
      " ormalization)                                                   \n",
      "                                                                 \n",
      " activation (Activation)     (None, 116, 100, 128)     0         \n",
      "                                                                 \n",
      " max_pooling2d (MaxPooling2D  (None, 58, 50, 128)      0         \n",
      " )                                                               \n",
      "                                                                 \n",
      " conv2d_1 (Conv2D)           (None, 58, 50, 128)       409728    \n",
      "                                                                 \n",
      " batch_normalization_1 (Batc  (None, 58, 50, 128)      512       \n",
      " hNormalization)                                                 \n",
      "                                                                 \n",
      " activation_1 (Activation)   (None, 58, 50, 128)       0         \n",
      "                                                                 \n",
      " max_pooling2d_1 (MaxPooling  (None, 15, 25, 128)      0         \n",
      " 2D)                                                             \n",
      "                                                                 \n",
      " conv2d_2 (Conv2D)           (None, 15, 25, 256)       819456    \n",
      "                                                                 \n",
      " batch_normalization_2 (Batc  (None, 15, 25, 256)      1024      \n",
      " hNormalization)                                                 \n",
      "                                                                 \n",
      " activation_2 (Activation)   (None, 15, 25, 256)       0         \n",
      "                                                                 \n",
      " max_pooling2d_2 (MaxPooling  (None, 8, 13, 256)       0         \n",
      " 2D)                                                             \n",
      "                                                                 \n",
      " conv2d_3 (Conv2D)           (None, 8, 13, 256)        1638656   \n",
      "                                                                 \n",
      " batch_normalization_3 (Batc  (None, 8, 13, 256)       1024      \n",
      " hNormalization)                                                 \n",
      "                                                                 \n",
      " activation_3 (Activation)   (None, 8, 13, 256)        0         \n",
      "                                                                 \n",
      " max_pooling2d_3 (MaxPooling  (None, 2, 7, 256)        0         \n",
      " 2D)                                                             \n",
      "                                                                 \n",
      " layer_normalization (LayerN  (None, 2, 7, 256)        512       \n",
      " ormalization)                                                   \n",
      "                                                                 \n",
      " reshape (Reshape)           (None, 2, 1792)           0         \n",
      "                                                                 \n",
      " lstm (LSTM)                 (None, 512)               4720640   \n",
      "                                                                 \n",
      " flatten (Flatten)           (None, 512)               0         \n",
      "                                                                 \n",
      " dense_all (Dense)           (None, 64)                32832     \n",
      "                                                                 \n",
      " classification (Dense)      (None, 4)                 260       \n",
      "                                                                 \n",
      "=================================================================\n",
      "Total params: 7,628,484\n",
      "Trainable params: 7,626,948\n",
      "Non-trainable params: 1,536\n",
      "_________________________________________________________________\n"
     ]
    }
   ],
   "source": [
    "models[0].summary()"
   ]
  },
  {
   "cell_type": "code",
   "execution_count": null,
   "metadata": {},
   "outputs": [],
   "source": []
  }
 ],
 "metadata": {
  "kernelspec": {
   "display_name": "acml_2024",
   "language": "python",
   "name": "python3"
  },
  "language_info": {
   "codemirror_mode": {
    "name": "ipython",
    "version": 3
   },
   "file_extension": ".py",
   "mimetype": "text/x-python",
   "name": "python",
   "nbconvert_exporter": "python",
   "pygments_lexer": "ipython3",
   "version": "3.9.7"
  }
 },
 "nbformat": 4,
 "nbformat_minor": 2
}
