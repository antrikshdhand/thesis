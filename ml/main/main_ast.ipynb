{
  "cells": [
    {
      "cell_type": "markdown",
      "source": [
        "### COLAB SETUP"
      ],
      "metadata": {
        "id": "Bjiy8OGIJY98"
      }
    },
    {
      "cell_type": "code",
      "source": [
        "from google.colab import drive\n",
        "drive.mount('/content/drive')"
      ],
      "metadata": {
        "colab": {
          "base_uri": "https://localhost:8080/"
        },
        "id": "MyMh-MJ9AgdN",
        "outputId": "de8ffb1f-739d-4e7f-b796-92c2fd4299be"
      },
      "execution_count": 1,
      "outputs": [
        {
          "output_type": "stream",
          "name": "stdout",
          "text": [
            "Drive already mounted at /content/drive; to attempt to forcibly remount, call drive.mount(\"/content/drive\", force_remount=True).\n"
          ]
        }
      ]
    },
    {
      "cell_type": "code",
      "source": [
        "import zipfile\n",
        "import os\n",
        "\n",
        "def verify_unzip_file(zip_path, extract_to):\n",
        "    with zipfile.ZipFile(zip_path, 'r') as zip_ref:\n",
        "        for file_name in zip_ref.namelist():\n",
        "            if file_name.startswith('__MACOSX'):\n",
        "                continue\n",
        "            file_path = os.path.join(extract_to, file_name)\n",
        "            if not os.path.exists(file_path):\n",
        "                zip_ref.extract(file_name, extract_to)\n",
        "                print(f\"Extracted: {file_name}\")\n",
        "            # else:\n",
        "            #     print(f\"Skipped (already exists): {file_name}\")\n",
        "\n",
        "zip_path = \"drive/MyDrive/deepship_5k_seg_3s.zip\"\n",
        "extract_to = \"data\"\n",
        "\n",
        "if not os.path.exists(extract_to):\n",
        "    with zipfile.ZipFile(zip_path, 'r') as zip_ref:\n",
        "        zip_ref.extractall(extract_to)\n",
        "\n",
        "verify_unzip_file(zip_path, extract_to)"
      ],
      "metadata": {
        "id": "oiipFukRB9ts"
      },
      "execution_count": 2,
      "outputs": []
    },
    {
      "cell_type": "markdown",
      "metadata": {
        "id": "yJEb6BZMAeqc"
      },
      "source": [
        "### Imports and utils"
      ]
    },
    {
      "cell_type": "code",
      "source": [
        "!pip install datasets"
      ],
      "metadata": {
        "colab": {
          "base_uri": "https://localhost:8080/"
        },
        "id": "Xq34SiFBA31E",
        "outputId": "0760f8cd-f63a-4007-d44d-ce16d43508ca"
      },
      "execution_count": 3,
      "outputs": [
        {
          "output_type": "stream",
          "name": "stdout",
          "text": [
            "Requirement already satisfied: datasets in /usr/local/lib/python3.10/dist-packages (3.1.0)\n",
            "Requirement already satisfied: filelock in /usr/local/lib/python3.10/dist-packages (from datasets) (3.16.1)\n",
            "Requirement already satisfied: numpy>=1.17 in /usr/local/lib/python3.10/dist-packages (from datasets) (1.26.4)\n",
            "Requirement already satisfied: pyarrow>=15.0.0 in /usr/local/lib/python3.10/dist-packages (from datasets) (17.0.0)\n",
            "Requirement already satisfied: dill<0.3.9,>=0.3.0 in /usr/local/lib/python3.10/dist-packages (from datasets) (0.3.8)\n",
            "Requirement already satisfied: pandas in /usr/local/lib/python3.10/dist-packages (from datasets) (2.2.2)\n",
            "Requirement already satisfied: requests>=2.32.2 in /usr/local/lib/python3.10/dist-packages (from datasets) (2.32.3)\n",
            "Requirement already satisfied: tqdm>=4.66.3 in /usr/local/lib/python3.10/dist-packages (from datasets) (4.66.6)\n",
            "Requirement already satisfied: xxhash in /usr/local/lib/python3.10/dist-packages (from datasets) (3.5.0)\n",
            "Requirement already satisfied: multiprocess<0.70.17 in /usr/local/lib/python3.10/dist-packages (from datasets) (0.70.16)\n",
            "Requirement already satisfied: fsspec<=2024.9.0,>=2023.1.0 in /usr/local/lib/python3.10/dist-packages (from fsspec[http]<=2024.9.0,>=2023.1.0->datasets) (2024.9.0)\n",
            "Requirement already satisfied: aiohttp in /usr/local/lib/python3.10/dist-packages (from datasets) (3.11.9)\n",
            "Requirement already satisfied: huggingface-hub>=0.23.0 in /usr/local/lib/python3.10/dist-packages (from datasets) (0.26.3)\n",
            "Requirement already satisfied: packaging in /usr/local/lib/python3.10/dist-packages (from datasets) (24.2)\n",
            "Requirement already satisfied: pyyaml>=5.1 in /usr/local/lib/python3.10/dist-packages (from datasets) (6.0.2)\n",
            "Requirement already satisfied: aiohappyeyeballs>=2.3.0 in /usr/local/lib/python3.10/dist-packages (from aiohttp->datasets) (2.4.4)\n",
            "Requirement already satisfied: aiosignal>=1.1.2 in /usr/local/lib/python3.10/dist-packages (from aiohttp->datasets) (1.3.1)\n",
            "Requirement already satisfied: async-timeout<6.0,>=4.0 in /usr/local/lib/python3.10/dist-packages (from aiohttp->datasets) (4.0.3)\n",
            "Requirement already satisfied: attrs>=17.3.0 in /usr/local/lib/python3.10/dist-packages (from aiohttp->datasets) (24.2.0)\n",
            "Requirement already satisfied: frozenlist>=1.1.1 in /usr/local/lib/python3.10/dist-packages (from aiohttp->datasets) (1.5.0)\n",
            "Requirement already satisfied: multidict<7.0,>=4.5 in /usr/local/lib/python3.10/dist-packages (from aiohttp->datasets) (6.1.0)\n",
            "Requirement already satisfied: propcache>=0.2.0 in /usr/local/lib/python3.10/dist-packages (from aiohttp->datasets) (0.2.1)\n",
            "Requirement already satisfied: yarl<2.0,>=1.17.0 in /usr/local/lib/python3.10/dist-packages (from aiohttp->datasets) (1.18.3)\n",
            "Requirement already satisfied: typing-extensions>=3.7.4.3 in /usr/local/lib/python3.10/dist-packages (from huggingface-hub>=0.23.0->datasets) (4.12.2)\n",
            "Requirement already satisfied: charset-normalizer<4,>=2 in /usr/local/lib/python3.10/dist-packages (from requests>=2.32.2->datasets) (3.4.0)\n",
            "Requirement already satisfied: idna<4,>=2.5 in /usr/local/lib/python3.10/dist-packages (from requests>=2.32.2->datasets) (3.10)\n",
            "Requirement already satisfied: urllib3<3,>=1.21.1 in /usr/local/lib/python3.10/dist-packages (from requests>=2.32.2->datasets) (2.2.3)\n",
            "Requirement already satisfied: certifi>=2017.4.17 in /usr/local/lib/python3.10/dist-packages (from requests>=2.32.2->datasets) (2024.8.30)\n",
            "Requirement already satisfied: python-dateutil>=2.8.2 in /usr/local/lib/python3.10/dist-packages (from pandas->datasets) (2.8.2)\n",
            "Requirement already satisfied: pytz>=2020.1 in /usr/local/lib/python3.10/dist-packages (from pandas->datasets) (2024.2)\n",
            "Requirement already satisfied: tzdata>=2022.7 in /usr/local/lib/python3.10/dist-packages (from pandas->datasets) (2024.2)\n",
            "Requirement already satisfied: six>=1.5 in /usr/local/lib/python3.10/dist-packages (from python-dateutil>=2.8.2->pandas->datasets) (1.16.0)\n"
          ]
        }
      ]
    },
    {
      "cell_type": "code",
      "execution_count": 69,
      "metadata": {
        "id": "SWRCYB2rAeqe"
      },
      "outputs": [],
      "source": [
        "import time\n",
        "\n",
        "import torch\n",
        "from transformers import ASTFeatureExtractor, ASTForAudioClassification\n",
        "from torch.utils.data import DataLoader, random_split, Subset\n",
        "from datasets import load_dataset, Audio, ClassLabel\n",
        "\n",
        "import numpy as np\n",
        "import matplotlib.pyplot as plt\n",
        "import matplotlib.ticker as mticker\n",
        "import pandas as pd\n",
        "from tqdm import tqdm"
      ]
    },
    {
      "cell_type": "code",
      "execution_count": 5,
      "metadata": {
        "id": "9uwWeue6Aeqf"
      },
      "outputs": [],
      "source": [
        "### CONSTANTS ###\n",
        "\n",
        "DEEPSHIP_SAMPLING_RATE = 5000\n",
        "AST_SAMPLING_RATE = 16000\n",
        "DEEPSHIP_ROOT_DIR = 'data'\n",
        "\n",
        "LEARNING_RATE = 1e-5\n",
        "NUM_EPOCHS = 5\n",
        "BATCH_SIZE = 32"
      ]
    },
    {
      "cell_type": "code",
      "execution_count": 6,
      "metadata": {
        "id": "134cGVt4Aeqf",
        "outputId": "9aef5ad0-3aa4-42ef-e888-7875a7182d5e",
        "colab": {
          "base_uri": "https://localhost:8080/"
        }
      },
      "outputs": [
        {
          "output_type": "stream",
          "name": "stdout",
          "text": [
            "GPU detected: NVIDIA A100-SXM4-40GB\n"
          ]
        }
      ],
      "source": [
        "# Check PyTorch is using GPU\n",
        "def check_gpu_use():\n",
        "    if not torch.cuda.is_available():\n",
        "        raise Exception('*** GPU NOT IN USE ***')\n",
        "    else:\n",
        "        print(f'GPU detected: {torch.cuda.get_device_name(0)}')\n",
        "\n",
        "    return \"cuda\" if torch.cuda.is_available() else \"cpu\"\n",
        "\n",
        "DEVICE = check_gpu_use()"
      ]
    },
    {
      "cell_type": "code",
      "execution_count": 7,
      "metadata": {
        "id": "bnM0ocNDAeqf",
        "outputId": "5f24ea68-c6b3-40eb-f1fb-e5f7ddd0c6f7",
        "colab": {
          "base_uri": "https://localhost:8080/"
        }
      },
      "outputs": [
        {
          "output_type": "stream",
          "name": "stdout",
          "text": [
            "Device name: NVIDIA A100-SXM4-40GB\n",
            "FlashAttention available: True\n",
            "torch version: 2.5.1+cu121\n"
          ]
        }
      ],
      "source": [
        "!set USE_FLASH_ATTENTION=1\n",
        "print(\"Device name:\", torch.cuda.get_device_properties('cuda').name)\n",
        "print(\"FlashAttention available:\", torch.backends.cuda.flash_sdp_enabled())\n",
        "print(f'torch version: {torch.__version__}')"
      ]
    },
    {
      "cell_type": "code",
      "execution_count": 8,
      "metadata": {
        "id": "XylEL9BUAeqf"
      },
      "outputs": [],
      "source": [
        "def format_time(duration):\n",
        "    minutes, seconds = divmod(duration, 60)\n",
        "    return f\"{int(minutes)}min {seconds:.1f}sec\""
      ]
    },
    {
      "cell_type": "markdown",
      "metadata": {
        "id": "a3MJF-D3Aeqf"
      },
      "source": [
        "### Load and preprocess data"
      ]
    },
    {
      "cell_type": "markdown",
      "metadata": {
        "id": "bvINYg2LAeqf"
      },
      "source": [
        "#### Set up DeepShip as a complete PyTorch dataset"
      ]
    },
    {
      "cell_type": "code",
      "execution_count": 9,
      "metadata": {
        "colab": {
          "referenced_widgets": [
            "9ab1a3846dca457e9e060b22a0656877",
            "819e10d4ad1a4f77a2ca88dcae3c32b4",
            "2ae14ef4b7814c6aa1810302c49574d7",
            "bb5831d2f4f94ba9b5363661786c53f6",
            "101b22edd9af42cf9349a980d2249256",
            "759058e6c5d84608b02b8217cbbf5f1e",
            "a60f6953b5a64313a94a541591befcf2",
            "74d7fe7616c548c09431e07d03927092",
            "f2e4e0cdeaa5472c88a19173d35e91e4",
            "d0f0adb1b17745a896f034c12a5e4912",
            "7e6ca2c7fd7a4ceebca1f65d5d62d576"
          ],
          "base_uri": "https://localhost:8080/",
          "height": 49
        },
        "id": "Ee9Qfp9VAeqf",
        "outputId": "f8997cb0-f4b8-4b68-e491-8cc99e5e494b"
      },
      "outputs": [
        {
          "output_type": "display_data",
          "data": {
            "text/plain": [
              "Resolving data files:   0%|          | 0/53502 [00:00<?, ?it/s]"
            ],
            "application/vnd.jupyter.widget-view+json": {
              "version_major": 2,
              "version_minor": 0,
              "model_id": "9ab1a3846dca457e9e060b22a0656877"
            }
          },
          "metadata": {}
        }
      ],
      "source": [
        "deepship = load_dataset(\"audiofolder\", data_dir=DEEPSHIP_ROOT_DIR)"
      ]
    },
    {
      "cell_type": "code",
      "execution_count": 10,
      "metadata": {
        "id": "RKLdPQNoAeqg",
        "outputId": "1fbe9950-6bb3-4bcf-8332-c624e7bb5c53",
        "colab": {
          "base_uri": "https://localhost:8080/"
        }
      },
      "outputs": [
        {
          "output_type": "stream",
          "name": "stdout",
          "text": [
            "DatasetDict({\n",
            "    train: Dataset({\n",
            "        features: ['audio', 'label'],\n",
            "        num_rows: 53502\n",
            "    })\n",
            "})\n"
          ]
        }
      ],
      "source": [
        "deepship = deepship.cast_column(\"audio\", Audio(sampling_rate=AST_SAMPLING_RATE)) # Resample to 16 kHz to be compatible with AST\n",
        "deepship = deepship.cast_column(\"label\", ClassLabel(names=['Tanker', 'Cargo', 'Tug', 'Passengership']))\n",
        "\n",
        "print(deepship)"
      ]
    },
    {
      "cell_type": "code",
      "execution_count": 11,
      "metadata": {
        "id": "3vFwuCIwAeqg",
        "colab": {
          "base_uri": "https://localhost:8080/"
        },
        "outputId": "360f4575-a5a3-4c33-b3ea-e5de91694026"
      },
      "outputs": [
        {
          "output_type": "stream",
          "name": "stderr",
          "text": [
            "/usr/local/lib/python3.10/dist-packages/huggingface_hub/utils/_auth.py:94: UserWarning: \n",
            "The secret `HF_TOKEN` does not exist in your Colab secrets.\n",
            "To authenticate with the Hugging Face Hub, create a token in your settings tab (https://huggingface.co/settings/tokens), set it as secret in your Google Colab and restart your session.\n",
            "You will be able to reuse this secret in all of your notebooks.\n",
            "Please note that authentication is recommended but still optional to access public models or datasets.\n",
            "  warnings.warn(\n"
          ]
        }
      ],
      "source": [
        "### Get the spectrograms ###\n",
        "\n",
        "pretrained_model_url = \"MIT/ast-finetuned-audioset-10-10-0.4593\"\n",
        "ast_feature_extractor = ASTFeatureExtractor.from_pretrained(pretrained_model_url)\n",
        "\n",
        "# Process the inputs in batches\n",
        "def preprocess_batch(batch):\n",
        "    wavs = [audio[\"array\"] for audio in batch[\"audio\"]]\n",
        "    inputs = ast_feature_extractor(wavs, sampling_rate=AST_SAMPLING_RATE, return_tensors=\"pt\") # Converts to spectrograms\n",
        "    batch[\"spectrogram\"] = inputs[\"input_values\"]\n",
        "    return batch\n",
        "\n",
        "deepship.set_transform(preprocess_batch, output_all_columns=True)"
      ]
    },
    {
      "cell_type": "markdown",
      "metadata": {
        "id": "TssBmhO9Aeqg"
      },
      "source": [
        "#### Split the dataset into folds\n",
        "\n",
        "At this stage, `deepship` is fully ready to be used as input to a training loop. However, to create a test-train split we will convert it into folds."
      ]
    },
    {
      "cell_type": "code",
      "execution_count": 12,
      "metadata": {
        "id": "brdYglU7Aeqg",
        "outputId": "8901678a-40c9-4ba7-a7c8-5aafb4a5ad00",
        "colab": {
          "base_uri": "https://localhost:8080/",
          "height": 221
        }
      },
      "outputs": [
        {
          "output_type": "stream",
          "name": "stdout",
          "text": [
            "/home/thales/src/ajaac/datasets/DeepShip/DeepShip_5k_seg_3s/\n"
          ]
        },
        {
          "output_type": "execute_result",
          "data": {
            "text/plain": [
              "                                               files  labels  folds\n",
              "0  Passengership/QUADRA_QUEEN-69-20180630_seg058.mat       3      7\n",
              "1      Passengership/QUEEN_OF-60-20161102_seg003.mat       3      5\n",
              "2  Passengership/NORTHERN_EXPEDITION-69-20170617_...       3      4\n",
              "3   Passengership/V2V_EMPRESS-60-20180722_seg177.mat       3      0\n",
              "4        Passengership/TACHEK-69-20160616_seg121.mat       3      4"
            ],
            "text/html": [
              "\n",
              "  <div id=\"df-44b8eebf-fcff-4265-b0c2-a30275c3feef\" class=\"colab-df-container\">\n",
              "    <div>\n",
              "<style scoped>\n",
              "    .dataframe tbody tr th:only-of-type {\n",
              "        vertical-align: middle;\n",
              "    }\n",
              "\n",
              "    .dataframe tbody tr th {\n",
              "        vertical-align: top;\n",
              "    }\n",
              "\n",
              "    .dataframe thead th {\n",
              "        text-align: right;\n",
              "    }\n",
              "</style>\n",
              "<table border=\"1\" class=\"dataframe\">\n",
              "  <thead>\n",
              "    <tr style=\"text-align: right;\">\n",
              "      <th></th>\n",
              "      <th>files</th>\n",
              "      <th>labels</th>\n",
              "      <th>folds</th>\n",
              "    </tr>\n",
              "  </thead>\n",
              "  <tbody>\n",
              "    <tr>\n",
              "      <th>0</th>\n",
              "      <td>Passengership/QUADRA_QUEEN-69-20180630_seg058.mat</td>\n",
              "      <td>3</td>\n",
              "      <td>7</td>\n",
              "    </tr>\n",
              "    <tr>\n",
              "      <th>1</th>\n",
              "      <td>Passengership/QUEEN_OF-60-20161102_seg003.mat</td>\n",
              "      <td>3</td>\n",
              "      <td>5</td>\n",
              "    </tr>\n",
              "    <tr>\n",
              "      <th>2</th>\n",
              "      <td>Passengership/NORTHERN_EXPEDITION-69-20170617_...</td>\n",
              "      <td>3</td>\n",
              "      <td>4</td>\n",
              "    </tr>\n",
              "    <tr>\n",
              "      <th>3</th>\n",
              "      <td>Passengership/V2V_EMPRESS-60-20180722_seg177.mat</td>\n",
              "      <td>3</td>\n",
              "      <td>0</td>\n",
              "    </tr>\n",
              "    <tr>\n",
              "      <th>4</th>\n",
              "      <td>Passengership/TACHEK-69-20160616_seg121.mat</td>\n",
              "      <td>3</td>\n",
              "      <td>4</td>\n",
              "    </tr>\n",
              "  </tbody>\n",
              "</table>\n",
              "</div>\n",
              "    <div class=\"colab-df-buttons\">\n",
              "\n",
              "  <div class=\"colab-df-container\">\n",
              "    <button class=\"colab-df-convert\" onclick=\"convertToInteractive('df-44b8eebf-fcff-4265-b0c2-a30275c3feef')\"\n",
              "            title=\"Convert this dataframe to an interactive table.\"\n",
              "            style=\"display:none;\">\n",
              "\n",
              "  <svg xmlns=\"http://www.w3.org/2000/svg\" height=\"24px\" viewBox=\"0 -960 960 960\">\n",
              "    <path d=\"M120-120v-720h720v720H120Zm60-500h600v-160H180v160Zm220 220h160v-160H400v160Zm0 220h160v-160H400v160ZM180-400h160v-160H180v160Zm440 0h160v-160H620v160ZM180-180h160v-160H180v160Zm440 0h160v-160H620v160Z\"/>\n",
              "  </svg>\n",
              "    </button>\n",
              "\n",
              "  <style>\n",
              "    .colab-df-container {\n",
              "      display:flex;\n",
              "      gap: 12px;\n",
              "    }\n",
              "\n",
              "    .colab-df-convert {\n",
              "      background-color: #E8F0FE;\n",
              "      border: none;\n",
              "      border-radius: 50%;\n",
              "      cursor: pointer;\n",
              "      display: none;\n",
              "      fill: #1967D2;\n",
              "      height: 32px;\n",
              "      padding: 0 0 0 0;\n",
              "      width: 32px;\n",
              "    }\n",
              "\n",
              "    .colab-df-convert:hover {\n",
              "      background-color: #E2EBFA;\n",
              "      box-shadow: 0px 1px 2px rgba(60, 64, 67, 0.3), 0px 1px 3px 1px rgba(60, 64, 67, 0.15);\n",
              "      fill: #174EA6;\n",
              "    }\n",
              "\n",
              "    .colab-df-buttons div {\n",
              "      margin-bottom: 4px;\n",
              "    }\n",
              "\n",
              "    [theme=dark] .colab-df-convert {\n",
              "      background-color: #3B4455;\n",
              "      fill: #D2E3FC;\n",
              "    }\n",
              "\n",
              "    [theme=dark] .colab-df-convert:hover {\n",
              "      background-color: #434B5C;\n",
              "      box-shadow: 0px 1px 3px 1px rgba(0, 0, 0, 0.15);\n",
              "      filter: drop-shadow(0px 1px 2px rgba(0, 0, 0, 0.3));\n",
              "      fill: #FFFFFF;\n",
              "    }\n",
              "  </style>\n",
              "\n",
              "    <script>\n",
              "      const buttonEl =\n",
              "        document.querySelector('#df-44b8eebf-fcff-4265-b0c2-a30275c3feef button.colab-df-convert');\n",
              "      buttonEl.style.display =\n",
              "        google.colab.kernel.accessAllowed ? 'block' : 'none';\n",
              "\n",
              "      async function convertToInteractive(key) {\n",
              "        const element = document.querySelector('#df-44b8eebf-fcff-4265-b0c2-a30275c3feef');\n",
              "        const dataTable =\n",
              "          await google.colab.kernel.invokeFunction('convertToInteractive',\n",
              "                                                    [key], {});\n",
              "        if (!dataTable) return;\n",
              "\n",
              "        const docLinkHtml = 'Like what you see? Visit the ' +\n",
              "          '<a target=\"_blank\" href=https://colab.research.google.com/notebooks/data_table.ipynb>data table notebook</a>'\n",
              "          + ' to learn more about interactive tables.';\n",
              "        element.innerHTML = '';\n",
              "        dataTable['output_type'] = 'display_data';\n",
              "        await google.colab.output.renderOutput(dataTable, element);\n",
              "        const docLink = document.createElement('div');\n",
              "        docLink.innerHTML = docLinkHtml;\n",
              "        element.appendChild(docLink);\n",
              "      }\n",
              "    </script>\n",
              "  </div>\n",
              "\n",
              "\n",
              "<div id=\"df-a188efdd-4143-443d-b3a5-0f9bba0be6cc\">\n",
              "  <button class=\"colab-df-quickchart\" onclick=\"quickchart('df-a188efdd-4143-443d-b3a5-0f9bba0be6cc')\"\n",
              "            title=\"Suggest charts\"\n",
              "            style=\"display:none;\">\n",
              "\n",
              "<svg xmlns=\"http://www.w3.org/2000/svg\" height=\"24px\"viewBox=\"0 0 24 24\"\n",
              "     width=\"24px\">\n",
              "    <g>\n",
              "        <path d=\"M19 3H5c-1.1 0-2 .9-2 2v14c0 1.1.9 2 2 2h14c1.1 0 2-.9 2-2V5c0-1.1-.9-2-2-2zM9 17H7v-7h2v7zm4 0h-2V7h2v10zm4 0h-2v-4h2v4z\"/>\n",
              "    </g>\n",
              "</svg>\n",
              "  </button>\n",
              "\n",
              "<style>\n",
              "  .colab-df-quickchart {\n",
              "      --bg-color: #E8F0FE;\n",
              "      --fill-color: #1967D2;\n",
              "      --hover-bg-color: #E2EBFA;\n",
              "      --hover-fill-color: #174EA6;\n",
              "      --disabled-fill-color: #AAA;\n",
              "      --disabled-bg-color: #DDD;\n",
              "  }\n",
              "\n",
              "  [theme=dark] .colab-df-quickchart {\n",
              "      --bg-color: #3B4455;\n",
              "      --fill-color: #D2E3FC;\n",
              "      --hover-bg-color: #434B5C;\n",
              "      --hover-fill-color: #FFFFFF;\n",
              "      --disabled-bg-color: #3B4455;\n",
              "      --disabled-fill-color: #666;\n",
              "  }\n",
              "\n",
              "  .colab-df-quickchart {\n",
              "    background-color: var(--bg-color);\n",
              "    border: none;\n",
              "    border-radius: 50%;\n",
              "    cursor: pointer;\n",
              "    display: none;\n",
              "    fill: var(--fill-color);\n",
              "    height: 32px;\n",
              "    padding: 0;\n",
              "    width: 32px;\n",
              "  }\n",
              "\n",
              "  .colab-df-quickchart:hover {\n",
              "    background-color: var(--hover-bg-color);\n",
              "    box-shadow: 0 1px 2px rgba(60, 64, 67, 0.3), 0 1px 3px 1px rgba(60, 64, 67, 0.15);\n",
              "    fill: var(--button-hover-fill-color);\n",
              "  }\n",
              "\n",
              "  .colab-df-quickchart-complete:disabled,\n",
              "  .colab-df-quickchart-complete:disabled:hover {\n",
              "    background-color: var(--disabled-bg-color);\n",
              "    fill: var(--disabled-fill-color);\n",
              "    box-shadow: none;\n",
              "  }\n",
              "\n",
              "  .colab-df-spinner {\n",
              "    border: 2px solid var(--fill-color);\n",
              "    border-color: transparent;\n",
              "    border-bottom-color: var(--fill-color);\n",
              "    animation:\n",
              "      spin 1s steps(1) infinite;\n",
              "  }\n",
              "\n",
              "  @keyframes spin {\n",
              "    0% {\n",
              "      border-color: transparent;\n",
              "      border-bottom-color: var(--fill-color);\n",
              "      border-left-color: var(--fill-color);\n",
              "    }\n",
              "    20% {\n",
              "      border-color: transparent;\n",
              "      border-left-color: var(--fill-color);\n",
              "      border-top-color: var(--fill-color);\n",
              "    }\n",
              "    30% {\n",
              "      border-color: transparent;\n",
              "      border-left-color: var(--fill-color);\n",
              "      border-top-color: var(--fill-color);\n",
              "      border-right-color: var(--fill-color);\n",
              "    }\n",
              "    40% {\n",
              "      border-color: transparent;\n",
              "      border-right-color: var(--fill-color);\n",
              "      border-top-color: var(--fill-color);\n",
              "    }\n",
              "    60% {\n",
              "      border-color: transparent;\n",
              "      border-right-color: var(--fill-color);\n",
              "    }\n",
              "    80% {\n",
              "      border-color: transparent;\n",
              "      border-right-color: var(--fill-color);\n",
              "      border-bottom-color: var(--fill-color);\n",
              "    }\n",
              "    90% {\n",
              "      border-color: transparent;\n",
              "      border-bottom-color: var(--fill-color);\n",
              "    }\n",
              "  }\n",
              "</style>\n",
              "\n",
              "  <script>\n",
              "    async function quickchart(key) {\n",
              "      const quickchartButtonEl =\n",
              "        document.querySelector('#' + key + ' button');\n",
              "      quickchartButtonEl.disabled = true;  // To prevent multiple clicks.\n",
              "      quickchartButtonEl.classList.add('colab-df-spinner');\n",
              "      try {\n",
              "        const charts = await google.colab.kernel.invokeFunction(\n",
              "            'suggestCharts', [key], {});\n",
              "      } catch (error) {\n",
              "        console.error('Error during call to suggestCharts:', error);\n",
              "      }\n",
              "      quickchartButtonEl.classList.remove('colab-df-spinner');\n",
              "      quickchartButtonEl.classList.add('colab-df-quickchart-complete');\n",
              "    }\n",
              "    (() => {\n",
              "      let quickchartButtonEl =\n",
              "        document.querySelector('#df-a188efdd-4143-443d-b3a5-0f9bba0be6cc button');\n",
              "      quickchartButtonEl.style.display =\n",
              "        google.colab.kernel.accessAllowed ? 'block' : 'none';\n",
              "    })();\n",
              "  </script>\n",
              "</div>\n",
              "\n",
              "    </div>\n",
              "  </div>\n"
            ],
            "application/vnd.google.colaboratory.intrinsic+json": {
              "type": "dataframe",
              "variable_name": "fold_definitions",
              "summary": "{\n  \"name\": \"fold_definitions\",\n  \"rows\": 53502,\n  \"fields\": [\n    {\n      \"column\": \"files\",\n      \"properties\": {\n        \"dtype\": \"string\",\n        \"num_unique_values\": 53502,\n        \"samples\": [\n          \"Cargo/SEASPAN_RELIANT-76-20171116_seg100.mat\",\n          \"Passengership/COLUMBIA-69-20160625_seg085.mat\",\n          \"Tanker/GINGA_COUGAR-89-20160714_seg029.mat\"\n        ],\n        \"semantic_type\": \"\",\n        \"description\": \"\"\n      }\n    },\n    {\n      \"column\": \"labels\",\n      \"properties\": {\n        \"dtype\": \"number\",\n        \"std\": 1,\n        \"min\": 0,\n        \"max\": 3,\n        \"num_unique_values\": 4,\n        \"samples\": [\n          2,\n          0,\n          3\n        ],\n        \"semantic_type\": \"\",\n        \"description\": \"\"\n      }\n    },\n    {\n      \"column\": \"folds\",\n      \"properties\": {\n        \"dtype\": \"number\",\n        \"std\": 2,\n        \"min\": 0,\n        \"max\": 9,\n        \"num_unique_values\": 10,\n        \"samples\": [\n          6,\n          5,\n          1\n        ],\n        \"semantic_type\": \"\",\n        \"description\": \"\"\n      }\n    }\n  ]\n}"
            }
          },
          "metadata": {},
          "execution_count": 12
        }
      ],
      "source": [
        "# RENAME FOLD DEFINITION CSV FILE PATHS\n",
        "\n",
        "unix = True\n",
        "\n",
        "fold_definitions = pd.read_csv(\"deepship_5k_seg_3s.csv\")\n",
        "\n",
        "# Points to the folder that contains the class subfolders in the csv file.\n",
        "prev_path_to_root = fold_definitions.iloc[0, 0].split(\"Passengership\")[0]\n",
        "\n",
        "print(prev_path_to_root)\n",
        "\n",
        "fold_definitions['files'] = fold_definitions['files'].apply(\n",
        "    lambda x: x.lstrip(prev_path_to_root)\n",
        ")\n",
        "\n",
        "# x86 directory formatting\n",
        "if not unix:\n",
        "    fold_definitions['files'] = fold_definitions['files'].apply(\n",
        "        lambda x: x.replace('/', '\\\\')\n",
        "    )\n",
        "\n",
        "# Convert .wav to .csv or .npz\n",
        "fold_definitions['files'] = fold_definitions['files'].apply(\n",
        "    lambda x: x.replace('.wav', '.mat')\n",
        ")\n",
        "\n",
        "fold_definitions.head()"
      ]
    },
    {
      "cell_type": "code",
      "execution_count": 13,
      "metadata": {
        "id": "fGeHNAdTAeqg",
        "outputId": "de3b48e7-789c-44db-e395-8270da88ef38",
        "colab": {
          "base_uri": "https://localhost:8080/"
        }
      },
      "outputs": [
        {
          "output_type": "stream",
          "name": "stdout",
          "text": [
            "Passengership/QUADRA_QUEEN-69-20180630_seg058.mat 7\n",
            "Passengership/QUEEN_OF-60-20161102_seg003.mat 5\n",
            "Passengership/NORTHERN_EXPEDITION-69-20170617_seg450.mat 4\n",
            "Passengership/V2V_EMPRESS-60-20180722_seg177.mat 0\n",
            "Passengership/TACHEK-69-20160616_seg121.mat 4\n"
          ]
        }
      ],
      "source": [
        "# Dictionary which goes from FILE_PATH to FOLD_INDEX\n",
        "file_to_fold = dict(zip(fold_definitions['files'], fold_definitions['folds']))\n",
        "\n",
        "i = 0\n",
        "for key, val in file_to_fold.items():\n",
        "    print(key, val)\n",
        "    i += 1\n",
        "    if i == 5: break"
      ]
    },
    {
      "cell_type": "code",
      "execution_count": 14,
      "metadata": {
        "id": "NcmwRGbUAeqg"
      },
      "outputs": [],
      "source": [
        "# Get a list of all file_paths (in order) from deepship[\"train\"]\n",
        "file_paths = [\n",
        "    data['audio']['path'].split('data/')[-1].replace(\".wav\", \".mat\")\n",
        "    for data in deepship['train']\n",
        "]\n",
        "\n",
        "# Map each file path to its index in `deepship[\"train\"]`\n",
        "file_index_map = {file_path: idx for idx, file_path in enumerate(file_paths)}\n",
        "\n",
        "# Dictionary which goes from FOLD_INDEX to [INDEX_OF_FILE_IN_DATASET]\n",
        "fold_indices = {i: [] for i in range(10)}\n",
        "for file_path, fold in file_to_fold.items():\n",
        "    if file_path in file_index_map:\n",
        "        fold_indices[fold].append(file_index_map[file_path])"
      ]
    },
    {
      "cell_type": "code",
      "execution_count": 15,
      "metadata": {
        "id": "G9E2E_J3Aeqh"
      },
      "outputs": [],
      "source": [
        "# Map folds to splits\n",
        "train_folds = list(range(2, 9))  # Folds 2 to 8\n",
        "val_fold = [9]                   # Fold 9\n",
        "test_folds = [0, 1]              # Folds 0 and 1\n",
        "\n",
        "train_indices = sum([fold_indices[f] for f in train_folds], [])\n",
        "val_indices = fold_indices[val_fold[0]]\n",
        "test_indices = sum([fold_indices[f] for f in test_folds], [])"
      ]
    },
    {
      "cell_type": "code",
      "execution_count": 16,
      "metadata": {
        "id": "Pio4ILpVAeqh"
      },
      "outputs": [],
      "source": [
        "# Create subsets for each split\n",
        "train_set = Subset(deepship[\"train\"], train_indices)\n",
        "val_set = Subset(deepship[\"train\"], val_indices)\n",
        "test_set = Subset(deepship[\"train\"], test_indices)\n",
        "\n",
        "train_dataloader = DataLoader(train_set, batch_size=BATCH_SIZE, shuffle=True)\n",
        "val_dataloader = DataLoader(val_set, batch_size=BATCH_SIZE)\n",
        "test_dataloader = DataLoader(test_set, batch_size=BATCH_SIZE)"
      ]
    },
    {
      "cell_type": "code",
      "execution_count": 17,
      "metadata": {
        "id": "rhqXk0f1Aeqh",
        "outputId": "bbf44b81-6997-45a1-a8c9-b264401c4127",
        "colab": {
          "base_uri": "https://localhost:8080/"
        }
      },
      "outputs": [
        {
          "output_type": "stream",
          "name": "stdout",
          "text": [
            "39944\n",
            "3526\n",
            "10032\n",
            "39944\n",
            "3526\n",
            "10032\n"
          ]
        }
      ],
      "source": [
        "print(len(train_indices))\n",
        "print(len(val_indices))\n",
        "print(len(test_indices))\n",
        "\n",
        "print(len(train_set))\n",
        "print(len(val_set))\n",
        "print(len(test_set))"
      ]
    },
    {
      "cell_type": "markdown",
      "metadata": {
        "id": "sP2S0tDhAeqh"
      },
      "source": [
        "### Get and edit model"
      ]
    },
    {
      "cell_type": "code",
      "execution_count": 18,
      "metadata": {
        "id": "R4bRzfCSAeqh",
        "outputId": "541551b8-a15f-40ce-e841-373e3bfc76e5",
        "colab": {
          "base_uri": "https://localhost:8080/"
        }
      },
      "outputs": [
        {
          "output_type": "execute_result",
          "data": {
            "text/plain": [
              "ASTForAudioClassification(\n",
              "  (audio_spectrogram_transformer): ASTModel(\n",
              "    (embeddings): ASTEmbeddings(\n",
              "      (patch_embeddings): ASTPatchEmbeddings(\n",
              "        (projection): Conv2d(1, 768, kernel_size=(16, 16), stride=(10, 10))\n",
              "      )\n",
              "      (dropout): Dropout(p=0.0, inplace=False)\n",
              "    )\n",
              "    (encoder): ASTEncoder(\n",
              "      (layer): ModuleList(\n",
              "        (0-11): 12 x ASTLayer(\n",
              "          (attention): ASTSdpaAttention(\n",
              "            (attention): ASTSdpaSelfAttention(\n",
              "              (query): Linear(in_features=768, out_features=768, bias=True)\n",
              "              (key): Linear(in_features=768, out_features=768, bias=True)\n",
              "              (value): Linear(in_features=768, out_features=768, bias=True)\n",
              "              (dropout): Dropout(p=0.0, inplace=False)\n",
              "            )\n",
              "            (output): ASTSelfOutput(\n",
              "              (dense): Linear(in_features=768, out_features=768, bias=True)\n",
              "              (dropout): Dropout(p=0.0, inplace=False)\n",
              "            )\n",
              "          )\n",
              "          (intermediate): ASTIntermediate(\n",
              "            (dense): Linear(in_features=768, out_features=3072, bias=True)\n",
              "            (intermediate_act_fn): GELUActivation()\n",
              "          )\n",
              "          (output): ASTOutput(\n",
              "            (dense): Linear(in_features=3072, out_features=768, bias=True)\n",
              "            (dropout): Dropout(p=0.0, inplace=False)\n",
              "          )\n",
              "          (layernorm_before): LayerNorm((768,), eps=1e-12, elementwise_affine=True)\n",
              "          (layernorm_after): LayerNorm((768,), eps=1e-12, elementwise_affine=True)\n",
              "        )\n",
              "      )\n",
              "    )\n",
              "    (layernorm): LayerNorm((768,), eps=1e-12, elementwise_affine=True)\n",
              "  )\n",
              "  (classifier): ASTMLPHead(\n",
              "    (layernorm): LayerNorm((768,), eps=1e-12, elementwise_affine=True)\n",
              "    (dense): Linear(in_features=768, out_features=4, bias=True)\n",
              "  )\n",
              ")"
            ]
          },
          "metadata": {},
          "execution_count": 18
        }
      ],
      "source": [
        "model = ASTForAudioClassification.from_pretrained(pretrained_model_url)\n",
        "model.classifier.dense = torch.nn.Linear(in_features=768, out_features=4, bias=True)\n",
        "model.to(DEVICE)"
      ]
    },
    {
      "cell_type": "markdown",
      "metadata": {
        "id": "LpTZEvENAeqh"
      },
      "source": [
        "### TRAIN AST"
      ]
    },
    {
      "cell_type": "code",
      "execution_count": 19,
      "metadata": {
        "id": "KjFIdin5Aeqh"
      },
      "outputs": [],
      "source": [
        "train_acc_ls, val_acc_ls, train_loss_ls, val_loss_ls = [], [], [], []\n",
        "\n",
        "def train_epoch(network, loss_fn, optimiser, epoch, train_dataloader):\n",
        "    print(f\"======= Starting Epoch {epoch + 1} =======\")\n",
        "    network.train()\n",
        "    correct = 0\n",
        "    running_loss = 0.0\n",
        "    total = 0\n",
        "\n",
        "    start_time = time.perf_counter()\n",
        "\n",
        "    for batch in tqdm(train_dataloader):\n",
        "        features = batch[\"spectrogram\"].to(DEVICE)\n",
        "        labels = batch[\"label\"].to(DEVICE)\n",
        "\n",
        "        optimiser.zero_grad()\n",
        "\n",
        "        # Forward pass\n",
        "        outputs = network(input_values=features)\n",
        "\n",
        "        # Calculate loss and backpropagate\n",
        "        loss = loss_fn(outputs.logits, labels)\n",
        "        loss.backward()\n",
        "        optimiser.step()\n",
        "\n",
        "        running_loss += loss.item() * features.size(0)\n",
        "        preds = torch.argmax(outputs.logits, dim=1)\n",
        "        correct += (preds == labels).sum().item()\n",
        "        total += labels.size(0)\n",
        "\n",
        "    epoch_accuracy = (correct / total) * 100\n",
        "    epoch_loss = running_loss / total\n",
        "    train_acc_ls.append(epoch_accuracy)\n",
        "    train_loss_ls.append(epoch_loss)\n",
        "\n",
        "    elapsed_time = time.perf_counter() - start_time\n",
        "\n",
        "    print(f\"[{epoch + 1}] Time: {format_time(elapsed_time)}, Accuracy: {epoch_accuracy:.3f}%, Loss: {epoch_loss:.3f}\")\n",
        "\n",
        "    return epoch_accuracy, epoch_loss\n",
        "\n",
        "def evaluate(network, loss_fn, val_dataloader):\n",
        "    network.eval()\n",
        "    correct = 0\n",
        "    running_loss = 0.0\n",
        "    total = 0\n",
        "\n",
        "    with torch.no_grad():\n",
        "        for batch in tqdm(val_dataloader):\n",
        "            features = batch[\"spectrogram\"].to(DEVICE)\n",
        "            labels = batch[\"label\"].to(DEVICE)\n",
        "\n",
        "            outputs = network(input_values=features)\n",
        "\n",
        "            loss = loss_fn(outputs.logits, labels)\n",
        "            running_loss += loss.item() * features.size(0)\n",
        "\n",
        "            preds = torch.argmax(outputs.logits, dim=1)\n",
        "\n",
        "            correct += (preds == labels).sum().item()\n",
        "            total += labels.size(0)\n",
        "\n",
        "    accuracy = (correct / total) * 100\n",
        "    avg_loss = running_loss / total\n",
        "    val_acc_ls.append(accuracy)\n",
        "    val_loss_ls.append(avg_loss)\n",
        "\n",
        "    print(f\"[Validation] Accuracy: {accuracy:.3f}%, Loss: {avg_loss:.3f}\")\n",
        "\n",
        "    return accuracy, avg_loss # val_acc, val_loss"
      ]
    },
    {
      "cell_type": "code",
      "execution_count": 20,
      "metadata": {
        "id": "wusqeK5EAeqi",
        "outputId": "9dc2b859-4244-413a-fa04-b348ab716597",
        "colab": {
          "base_uri": "https://localhost:8080/"
        }
      },
      "outputs": [
        {
          "output_type": "stream",
          "name": "stdout",
          "text": [
            "======= Starting Epoch 1 =======\n"
          ]
        },
        {
          "output_type": "stream",
          "name": "stderr",
          "text": [
            "100%|██████████| 1249/1249 [32:57<00:00,  1.58s/it]\n"
          ]
        },
        {
          "output_type": "stream",
          "name": "stdout",
          "text": [
            "[1] Time: 32min 57.6sec, Accuracy: 79.616%, Loss: 0.517\n"
          ]
        },
        {
          "output_type": "stream",
          "name": "stderr",
          "text": [
            "100%|██████████| 111/111 [01:04<00:00,  1.72it/s]\n"
          ]
        },
        {
          "output_type": "stream",
          "name": "stdout",
          "text": [
            "[Validation] Accuracy: 76.829%, Loss: 0.729\n",
            "======= Starting Epoch 2 =======\n"
          ]
        },
        {
          "output_type": "stream",
          "name": "stderr",
          "text": [
            "100%|██████████| 1249/1249 [32:57<00:00,  1.58s/it]\n"
          ]
        },
        {
          "output_type": "stream",
          "name": "stdout",
          "text": [
            "[2] Time: 32min 57.6sec, Accuracy: 93.426%, Loss: 0.181\n"
          ]
        },
        {
          "output_type": "stream",
          "name": "stderr",
          "text": [
            "100%|██████████| 111/111 [01:04<00:00,  1.71it/s]\n"
          ]
        },
        {
          "output_type": "stream",
          "name": "stdout",
          "text": [
            "[Validation] Accuracy: 69.767%, Loss: 1.033\n",
            "======= Starting Epoch 3 =======\n"
          ]
        },
        {
          "output_type": "stream",
          "name": "stderr",
          "text": [
            "100%|██████████| 1249/1249 [32:57<00:00,  1.58s/it]\n"
          ]
        },
        {
          "output_type": "stream",
          "name": "stdout",
          "text": [
            "[3] Time: 32min 57.0sec, Accuracy: 97.164%, Loss: 0.081\n"
          ]
        },
        {
          "output_type": "stream",
          "name": "stderr",
          "text": [
            "100%|██████████| 111/111 [01:04<00:00,  1.72it/s]\n"
          ]
        },
        {
          "output_type": "stream",
          "name": "stdout",
          "text": [
            "[Validation] Accuracy: 70.987%, Loss: 1.184\n",
            "======= Starting Epoch 4 =======\n"
          ]
        },
        {
          "output_type": "stream",
          "name": "stderr",
          "text": [
            "100%|██████████| 1249/1249 [32:57<00:00,  1.58s/it]\n"
          ]
        },
        {
          "output_type": "stream",
          "name": "stdout",
          "text": [
            "[4] Time: 32min 57.3sec, Accuracy: 98.365%, Loss: 0.048\n"
          ]
        },
        {
          "output_type": "stream",
          "name": "stderr",
          "text": [
            "100%|██████████| 111/111 [01:04<00:00,  1.72it/s]\n"
          ]
        },
        {
          "output_type": "stream",
          "name": "stdout",
          "text": [
            "[Validation] Accuracy: 74.334%, Loss: 1.305\n",
            "======= Starting Epoch 5 =======\n"
          ]
        },
        {
          "output_type": "stream",
          "name": "stderr",
          "text": [
            "100%|██████████| 1249/1249 [32:57<00:00,  1.58s/it]\n"
          ]
        },
        {
          "output_type": "stream",
          "name": "stdout",
          "text": [
            "[5] Time: 32min 58.0sec, Accuracy: 98.638%, Loss: 0.041\n"
          ]
        },
        {
          "output_type": "stream",
          "name": "stderr",
          "text": [
            "100%|██████████| 111/111 [01:04<00:00,  1.72it/s]\n"
          ]
        },
        {
          "output_type": "stream",
          "name": "stdout",
          "text": [
            "[Validation] Accuracy: 73.653%, Loss: 1.180\n"
          ]
        }
      ],
      "source": [
        "# Hyperparams\n",
        "optimiser = torch.optim.Adam(model.parameters(), lr=LEARNING_RATE)\n",
        "loss_fn = torch.nn.CrossEntropyLoss()\n",
        "\n",
        "for epoch in range(NUM_EPOCHS):\n",
        "    # Train for one epoch\n",
        "    train_epoch(model, loss_fn, optimiser, epoch, train_dataloader)\n",
        "\n",
        "    # Evaluate on validation set\n",
        "    evaluate(model, loss_fn, val_dataloader)\n",
        "\n",
        "    torch.save(model, f\"drive/MyDrive/saved_models/ast/ast_deepship_epoch_{epoch + 1}.pth\")"
      ]
    },
    {
      "cell_type": "code",
      "execution_count": 73,
      "metadata": {
        "id": "1jY9qbbmAeqi"
      },
      "outputs": [],
      "source": [
        "def _plot_accuracy(ax, epochs, training_acc, validation_acc):\n",
        "    \"\"\"Plot the accuracy curves.\"\"\"\n",
        "    ax.plot(epochs, training_acc, 'D-b', label='Training', markersize=7)\n",
        "    ax.plot(epochs, validation_acc, 'D-', color='orange', label='Validation', markersize=7)\n",
        "\n",
        "    ax.set_title('Accuracy over epochs')\n",
        "    ax.set_ylabel('Accuracy (%)')\n",
        "    ax.set_xlabel('Epochs')\n",
        "    ax.xaxis.set_major_locator(mticker.MultipleLocator(1))\n",
        "    ax.legend()\n",
        "    ax.grid(True)\n",
        "\n",
        "def _plot_loss(ax, epochs, training_loss, validation_loss):\n",
        "    \"\"\"Plot the loss curves.\"\"\"\n",
        "    ax.plot(epochs, training_loss, 'D-b', label='Training', markersize=7)\n",
        "    ax.plot(epochs, validation_loss, 'D-', color='orange', label='Validation', markersize=7)\n",
        "\n",
        "    ax.set_title('Loss over epochs')\n",
        "    ax.set_ylabel('Loss')\n",
        "    ax.set_xlabel('Epochs')\n",
        "    ax.xaxis.set_major_locator(mticker.MultipleLocator(1))\n",
        "    ax.legend()\n",
        "    ax.grid(True)\n",
        "\n",
        "def training_validation_plot(training_acc, training_loss, validation_acc, validation_loss, together=False):\n",
        "    \"\"\"\n",
        "    Args:\n",
        "    - training_acc (list): List of training accuracy values per epoch.\n",
        "    - training_loss (list): List of training loss values per epoch.\n",
        "    - validation_acc (list): List of validation accuracy values per epoch.\n",
        "    - validation_loss (list): List of validation loss values per epoch.\n",
        "    - together (bool): Whether to plot everything in one figure or separate figures.\n",
        "    \"\"\"\n",
        "    epochs = np.arange(1, len(training_acc) + 1)\n",
        "\n",
        "    if together:\n",
        "        fig, (ax_accuracy, ax_loss) = plt.subplots(1, 2, figsize=(12, 5))\n",
        "\n",
        "        _plot_accuracy(ax_accuracy, epochs, training_acc, validation_acc)\n",
        "        _plot_loss(ax_loss, epochs, training_loss, validation_loss)\n",
        "\n",
        "        fig.tight_layout()\n",
        "\n",
        "        return fig\n",
        "    else:\n",
        "        # Plot Accuracy and Loss in separate figures\n",
        "        # Accuracy plot\n",
        "        fig_accuracy, ax_accuracy = plt.subplots(figsize=(12, 5))\n",
        "        _plot_accuracy(ax_accuracy, epochs, training_acc, validation_acc)\n",
        "\n",
        "        # Loss plot\n",
        "        fig_loss, ax_loss = plt.subplots(figsize=(12, 5))\n",
        "        _plot_loss(ax_loss, epochs, training_loss, validation_loss)\n",
        "\n",
        "        return fig_accuracy, fig_loss\n"
      ]
    },
    {
      "cell_type": "code",
      "source": [
        "print(train_acc_ls)\n",
        "print(train_loss_ls)\n",
        "print(val_acc_ls)\n",
        "print(val_loss_ls)"
      ],
      "metadata": {
        "colab": {
          "base_uri": "https://localhost:8080/"
        },
        "id": "dNIbECDxR8VS",
        "outputId": "3fc7fdb0-d9fe-4ab7-95b4-bef1f090a0a7"
      },
      "execution_count": 74,
      "outputs": [
        {
          "output_type": "stream",
          "name": "stdout",
          "text": [
            "[79.61646304826758, 93.42579611456038, 97.16352894051671, 98.36521129581413, 98.63809333066293]\n",
            "[0.5168716271284609, 0.18115668609624944, 0.08112631356871494, 0.04836983469178896, 0.04053330115797496]\n",
            "[76.82926829268293, 69.76744186046511, 70.98695405558708, 74.3335224049915, 73.6528644356211, 68.87958532695376]\n",
            "[0.7289525251613715, 1.0333282364679208, 1.1838930553830083, 1.304577412790557, 1.1802659090175185, 0.9445966393040698]\n"
          ]
        }
      ]
    },
    {
      "cell_type": "code",
      "execution_count": 75,
      "metadata": {
        "id": "3fWAcScxAeqi",
        "colab": {
          "base_uri": "https://localhost:8080/",
          "height": 507
        },
        "outputId": "7076bc84-c815-4de8-96af-0a6cd6218ab5"
      },
      "outputs": [
        {
          "output_type": "display_data",
          "data": {
            "text/plain": [
              "<Figure size 1200x500 with 2 Axes>"
            ],
            "image/png": "[encoded data removed]"
          },
          "metadata": {}
        }
      ],
      "source": [
        "fig = training_validation_plot(train_acc_ls, train_loss_ls, val_acc_ls[:-1], val_loss_ls[:-1], together=True)\n",
        "fig.savefig(\"drive/MyDrive/saved_models/ast_plot.pdf\")\n",
        "fig.show()"
      ]
    },
    {
      "cell_type": "markdown",
      "metadata": {
        "id": "y9SxTqsjAeqi"
      },
      "source": [
        "### EVALUATE AST"
      ]
    },
    {
      "cell_type": "code",
      "execution_count": 23,
      "metadata": {
        "id": "LNQWT3BgAeqi",
        "colab": {
          "base_uri": "https://localhost:8080/"
        },
        "outputId": "cd92fe83-1105-4441-e532-247df8254735"
      },
      "outputs": [
        {
          "output_type": "stream",
          "name": "stderr",
          "text": [
            "<ipython-input-23-636fc580e7ea>:1: FutureWarning: You are using `torch.load` with `weights_only=False` (the current default value), which uses the default pickle module implicitly. It is possible to construct malicious pickle data which will execute arbitrary code during unpickling (See https://github.com/pytorch/pytorch/blob/main/SECURITY.md#untrusted-models for more details). In a future release, the default value for `weights_only` will be flipped to `True`. This limits the functions that could be executed during unpickling. Arbitrary objects will no longer be allowed to be loaded via this mode unless they are explicitly allowlisted by the user via `torch.serialization.add_safe_globals`. We recommend you start setting `weights_only=True` for any use case where you don't have full control of the loaded file. Please open an issue on GitHub for any issues related to this experimental feature.\n",
            "  model = torch.load(\"drive/MyDrive/saved_models/ast_deepship_epoch_1.pth\")  # Load the full fine-tuned model\n",
            "100%|██████████| 314/314 [03:04<00:00,  1.70it/s]"
          ]
        },
        {
          "output_type": "stream",
          "name": "stdout",
          "text": [
            "[Validation] Accuracy: 68.880%, Loss: 0.945\n"
          ]
        },
        {
          "output_type": "stream",
          "name": "stderr",
          "text": [
            "\n"
          ]
        }
      ],
      "source": [
        "model = torch.load(\"drive/MyDrive/saved_models/ast_deepship_epoch_1.pth\")  # Load the full fine-tuned model\n",
        "model.to(DEVICE)\n",
        "model.eval()\n",
        "\n",
        "\n",
        "loss_fn = torch.nn.CrossEntropyLoss()\n",
        "test_acc, test_loss = evaluate(model, loss_fn, test_dataloader)"
      ]
    }
  ],
  "metadata": {
    "kernelspec": {
      "display_name": "Python 3",
      "name": "python3"
    },
    "language_info": {
      "codemirror_mode": {
        "name": "ipython",
        "version": 3
      },
      "file_extension": ".py",
      "mimetype": "text/x-python",
      "name": "python",
      "nbconvert_exporter": "python",
      "pygments_lexer": "ipython3",
      "version": "3.9.7"
    },
    "colab": {
      "provenance": [],
      "gpuType": "A100"
    },
    "accelerator": "GPU",
    "widgets": {
      "application/vnd.jupyter.widget-state+json": {
        "9ab1a3846dca457e9e060b22a0656877": {
          "model_module": "@jupyter-widgets/controls",
          "model_name": "HBoxModel",
          "model_module_version": "1.5.0",
          "state": {
            "_dom_classes": [],
            "_model_module": "@jupyter-widgets/controls",
            "_model_module_version": "1.5.0",
            "_model_name": "HBoxModel",
            "_view_count": null,
            "_view_module": "@jupyter-widgets/controls",
            "_view_module_version": "1.5.0",
            "_view_name": "HBoxView",
            "box_style": "",
            "children": [
              "IPY_MODEL_819e10d4ad1a4f77a2ca88dcae3c32b4",
              "IPY_MODEL_2ae14ef4b7814c6aa1810302c49574d7",
              "IPY_MODEL_bb5831d2f4f94ba9b5363661786c53f6"
            ],
            "layout": "IPY_MODEL_101b22edd9af42cf9349a980d2249256"
          }
        },
        "819e10d4ad1a4f77a2ca88dcae3c32b4": {
          "model_module": "@jupyter-widgets/controls",
          "model_name": "HTMLModel",
          "model_module_version": "1.5.0",
          "state": {
            "_dom_classes": [],
            "_model_module": "@jupyter-widgets/controls",
            "_model_module_version": "1.5.0",
            "_model_name": "HTMLModel",
            "_view_count": null,
            "_view_module": "@jupyter-widgets/controls",
            "_view_module_version": "1.5.0",
            "_view_name": "HTMLView",
            "description": "",
            "description_tooltip": null,
            "layout": "IPY_MODEL_759058e6c5d84608b02b8217cbbf5f1e",
            "placeholder": "​",
            "style": "IPY_MODEL_a60f6953b5a64313a94a541591befcf2",
            "value": "Resolving data files: 100%"
          }
        },
        "2ae14ef4b7814c6aa1810302c49574d7": {
          "model_module": "@jupyter-widgets/controls",
          "model_name": "FloatProgressModel",
          "model_module_version": "1.5.0",
          "state": {
            "_dom_classes": [],
            "_model_module": "@jupyter-widgets/controls",
            "_model_module_version": "1.5.0",
            "_model_name": "FloatProgressModel",
            "_view_count": null,
            "_view_module": "@jupyter-widgets/controls",
            "_view_module_version": "1.5.0",
            "_view_name": "ProgressView",
            "bar_style": "success",
            "description": "",
            "description_tooltip": null,
            "layout": "IPY_MODEL_74d7fe7616c548c09431e07d03927092",
            "max": 53502,
            "min": 0,
            "orientation": "horizontal",
            "style": "IPY_MODEL_f2e4e0cdeaa5472c88a19173d35e91e4",
            "value": 53502
          }
        },
        "bb5831d2f4f94ba9b5363661786c53f6": {
          "model_module": "@jupyter-widgets/controls",
          "model_name": "HTMLModel",
          "model_module_version": "1.5.0",
          "state": {
            "_dom_classes": [],
            "_model_module": "@jupyter-widgets/controls",
            "_model_module_version": "1.5.0",
            "_model_name": "HTMLModel",
            "_view_count": null,
            "_view_module": "@jupyter-widgets/controls",
            "_view_module_version": "1.5.0",
            "_view_name": "HTMLView",
            "description": "",
            "description_tooltip": null,
            "layout": "IPY_MODEL_d0f0adb1b17745a896f034c12a5e4912",
            "placeholder": "​",
            "style": "IPY_MODEL_7e6ca2c7fd7a4ceebca1f65d5d62d576",
            "value": " 53502/53502 [00:00&lt;00:00, 64990.22it/s]"
          }
        },
        "101b22edd9af42cf9349a980d2249256": {
          "model_module": "@jupyter-widgets/base",
          "model_name": "LayoutModel",
          "model_module_version": "1.2.0",
          "state": {
            "_model_module": "@jupyter-widgets/base",
            "_model_module_version": "1.2.0",
            "_model_name": "LayoutModel",
            "_view_count": null,
            "_view_module": "@jupyter-widgets/base",
            "_view_module_version": "1.2.0",
            "_view_name": "LayoutView",
            "align_content": null,
            "align_items": null,
            "align_self": null,
            "border": null,
            "bottom": null,
            "display": null,
            "flex": null,
            "flex_flow": null,
            "grid_area": null,
            "grid_auto_columns": null,
            "grid_auto_flow": null,
            "grid_auto_rows": null,
            "grid_column": null,
            "grid_gap": null,
            "grid_row": null,
            "grid_template_areas": null,
            "grid_template_columns": null,
            "grid_template_rows": null,
            "height": null,
            "justify_content": null,
            "justify_items": null,
            "left": null,
            "margin": null,
            "max_height": null,
            "max_width": null,
            "min_height": null,
            "min_width": null,
            "object_fit": null,
            "object_position": null,
            "order": null,
            "overflow": null,
            "overflow_x": null,
            "overflow_y": null,
            "padding": null,
            "right": null,
            "top": null,
            "visibility": null,
            "width": null
          }
        },
        "759058e6c5d84608b02b8217cbbf5f1e": {
          "model_module": "@jupyter-widgets/base",
          "model_name": "LayoutModel",
          "model_module_version": "1.2.0",
          "state": {
            "_model_module": "@jupyter-widgets/base",
            "_model_module_version": "1.2.0",
            "_model_name": "LayoutModel",
            "_view_count": null,
            "_view_module": "@jupyter-widgets/base",
            "_view_module_version": "1.2.0",
            "_view_name": "LayoutView",
            "align_content": null,
            "align_items": null,
            "align_self": null,
            "border": null,
            "bottom": null,
            "display": null,
            "flex": null,
            "flex_flow": null,
            "grid_area": null,
            "grid_auto_columns": null,
            "grid_auto_flow": null,
            "grid_auto_rows": null,
            "grid_column": null,
            "grid_gap": null,
            "grid_row": null,
            "grid_template_areas": null,
            "grid_template_columns": null,
            "grid_template_rows": null,
            "height": null,
            "justify_content": null,
            "justify_items": null,
            "left": null,
            "margin": null,
            "max_height": null,
            "max_width": null,
            "min_height": null,
            "min_width": null,
            "object_fit": null,
            "object_position": null,
            "order": null,
            "overflow": null,
            "overflow_x": null,
            "overflow_y": null,
            "padding": null,
            "right": null,
            "top": null,
            "visibility": null,
            "width": null
          }
        },
        "a60f6953b5a64313a94a541591befcf2": {
          "model_module": "@jupyter-widgets/controls",
          "model_name": "DescriptionStyleModel",
          "model_module_version": "1.5.0",
          "state": {
            "_model_module": "@jupyter-widgets/controls",
            "_model_module_version": "1.5.0",
            "_model_name": "DescriptionStyleModel",
            "_view_count": null,
            "_view_module": "@jupyter-widgets/base",
            "_view_module_version": "1.2.0",
            "_view_name": "StyleView",
            "description_width": ""
          }
        },
        "74d7fe7616c548c09431e07d03927092": {
          "model_module": "@jupyter-widgets/base",
          "model_name": "LayoutModel",
          "model_module_version": "1.2.0",
          "state": {
            "_model_module": "@jupyter-widgets/base",
            "_model_module_version": "1.2.0",
            "_model_name": "LayoutModel",
            "_view_count": null,
            "_view_module": "@jupyter-widgets/base",
            "_view_module_version": "1.2.0",
            "_view_name": "LayoutView",
            "align_content": null,
            "align_items": null,
            "align_self": null,
            "border": null,
            "bottom": null,
            "display": null,
            "flex": null,
            "flex_flow": null,
            "grid_area": null,
            "grid_auto_columns": null,
            "grid_auto_flow": null,
            "grid_auto_rows": null,
            "grid_column": null,
            "grid_gap": null,
            "grid_row": null,
            "grid_template_areas": null,
            "grid_template_columns": null,
            "grid_template_rows": null,
            "height": null,
            "justify_content": null,
            "justify_items": null,
            "left": null,
            "margin": null,
            "max_height": null,
            "max_width": null,
            "min_height": null,
            "min_width": null,
            "object_fit": null,
            "object_position": null,
            "order": null,
            "overflow": null,
            "overflow_x": null,
            "overflow_y": null,
            "padding": null,
            "right": null,
            "top": null,
            "visibility": null,
            "width": null
          }
        },
        "f2e4e0cdeaa5472c88a19173d35e91e4": {
          "model_module": "@jupyter-widgets/controls",
          "model_name": "ProgressStyleModel",
          "model_module_version": "1.5.0",
          "state": {
            "_model_module": "@jupyter-widgets/controls",
            "_model_module_version": "1.5.0",
            "_model_name": "ProgressStyleModel",
            "_view_count": null,
            "_view_module": "@jupyter-widgets/base",
            "_view_module_version": "1.2.0",
            "_view_name": "StyleView",
            "bar_color": null,
            "description_width": ""
          }
        },
        "d0f0adb1b17745a896f034c12a5e4912": {
          "model_module": "@jupyter-widgets/base",
          "model_name": "LayoutModel",
          "model_module_version": "1.2.0",
          "state": {
            "_model_module": "@jupyter-widgets/base",
            "_model_module_version": "1.2.0",
            "_model_name": "LayoutModel",
            "_view_count": null,
            "_view_module": "@jupyter-widgets/base",
            "_view_module_version": "1.2.0",
            "_view_name": "LayoutView",
            "align_content": null,
            "align_items": null,
            "align_self": null,
            "border": null,
            "bottom": null,
            "display": null,
            "flex": null,
            "flex_flow": null,
            "grid_area": null,
            "grid_auto_columns": null,
            "grid_auto_flow": null,
            "grid_auto_rows": null,
            "grid_column": null,
            "grid_gap": null,
            "grid_row": null,
            "grid_template_areas": null,
            "grid_template_columns": null,
            "grid_template_rows": null,
            "height": null,
            "justify_content": null,
            "justify_items": null,
            "left": null,
            "margin": null,
            "max_height": null,
            "max_width": null,
            "min_height": null,
            "min_width": null,
            "object_fit": null,
            "object_position": null,
            "order": null,
            "overflow": null,
            "overflow_x": null,
            "overflow_y": null,
            "padding": null,
            "right": null,
            "top": null,
            "visibility": null,
            "width": null
          }
        },
        "7e6ca2c7fd7a4ceebca1f65d5d62d576": {
          "model_module": "@jupyter-widgets/controls",
          "model_name": "DescriptionStyleModel",
          "model_module_version": "1.5.0",
          "state": {
            "_model_module": "@jupyter-widgets/controls",
            "_model_module_version": "1.5.0",
            "_model_name": "DescriptionStyleModel",
            "_view_count": null,
            "_view_module": "@jupyter-widgets/base",
            "_view_module_version": "1.2.0",
            "_view_name": "StyleView",
            "description_width": ""
          }
        }
      }
    }
  },
  "nbformat": 4,
  "nbformat_minor": 0
}