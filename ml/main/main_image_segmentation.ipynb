{
 "cells": [
  {
   "cell_type": "markdown",
   "metadata": {},
   "source": [
    "### Imports and config"
   ]
  },
  {
   "cell_type": "code",
   "execution_count": 11,
   "metadata": {},
   "outputs": [],
   "source": [
    "# Libraries\n",
    "import os\n",
    "from importlib import reload\n",
    "from typing import List\n",
    "\n",
    "import tensorflow as tf\n",
    "import keras\n",
    "import numpy as np\n",
    "import sklearn.model_selection\n",
    "\n",
    "# Scripts\n",
    "from helpers import data, runners, utils"
   ]
  },
  {
   "cell_type": "code",
   "execution_count": 12,
   "metadata": {},
   "outputs": [
    {
     "name": "stdout",
     "output_type": "stream",
     "text": [
      "Name: tensorflow\n",
      "Version: 2.13.0\n",
      "Summary: TensorFlow is an open source machine learning framework for everyone.\n",
      "Home-page: https://www.tensorflow.org/\n",
      "Author: Google Inc.\n",
      "Author-email: packages@tensorflow.org\n",
      "License: Apache 2.0\n",
      "Location: /Users/antrikshdhand/Documents/github/thesis-ml/ml/virt/lib/python3.9/site-packages\n",
      "Requires: tensorflow-macos\n",
      "Required-by: \n"
     ]
    }
   ],
   "source": [
    "!pip show tensorflow"
   ]
  },
  {
   "cell_type": "code",
   "execution_count": 13,
   "metadata": {},
   "outputs": [
    {
     "name": "stdout",
     "output_type": "stream",
     "text": [
      "Name: keras\n",
      "Version: 2.13.1\n",
      "Summary: Deep learning for humans.\n",
      "Home-page: https://keras.io/\n",
      "Author: Keras team\n",
      "Author-email: keras-users@googlegroups.com\n",
      "License: Apache 2.0\n",
      "Location: /Users/antrikshdhand/Documents/github/thesis-ml/ml/virt/lib/python3.9/site-packages\n",
      "Requires: \n",
      "Required-by: tensorflow-macos\n"
     ]
    }
   ],
   "source": [
    "!pip show keras"
   ]
  },
  {
   "cell_type": "code",
   "execution_count": 14,
   "metadata": {},
   "outputs": [
    {
     "data": {
      "text/plain": [
       "<module 'helpers.utils' from '/Users/antrikshdhand/Documents/github/thesis-ml/ml/main/helpers/utils.py'>"
      ]
     },
     "execution_count": 14,
     "metadata": {},
     "output_type": "execute_result"
    }
   ],
   "source": [
    "reload(data)\n",
    "reload(runners)\n",
    "reload(utils)"
   ]
  },
  {
   "cell_type": "code",
   "execution_count": 15,
   "metadata": {},
   "outputs": [],
   "source": [
    "# Silence information messages from TensorFlow\n",
    "os.environ['TF_CPP_MIN_LOG_LEVEL'] = '1'\n",
    "\n",
    "# Check whether tf is using the GPU\n",
    "# utils.check_gpu_use() "
   ]
  },
  {
   "cell_type": "markdown",
   "metadata": {},
   "source": [
    "## `main`"
   ]
  },
  {
   "cell_type": "markdown",
   "metadata": {},
   "source": [
    "### Load data"
   ]
  },
  {
   "cell_type": "code",
   "execution_count": 16,
   "metadata": {},
   "outputs": [],
   "source": [
    "SPECS_DIR = \"../data/image_segmentation/data/spectrograms\"\n",
    "MASKS_DIR = \"../data/image_segmentation/data/masks\"\n",
    "\n",
    "IMAGE_DIMS = (256, 256)\n",
    "MODEL_INPUT_SIZE = (256, 256, 1)\n",
    "DATA_BATCH_SIZE = 16\n",
    "GPU_BATCH_SIZE = 16\n",
    "EPOCHS = 2"
   ]
  },
  {
   "cell_type": "code",
   "execution_count": 17,
   "metadata": {},
   "outputs": [],
   "source": [
    "def clean_dirs(specs_dir, masks_dir):\n",
    "    # Get sorted lists of image and mask files\n",
    "    spec_files = sorted([f for f in os.listdir(specs_dir) if f.endswith('.png')])\n",
    "    mask_files = sorted([f for f in os.listdir(masks_dir) if f.endswith('.png')])\n",
    "\n",
    "    # Keep only spec_files that have a corresponding mask\n",
    "    mask_ids = {f.replace('_mask.png', '') for f in mask_files}\n",
    "    spec_files = [f for f in spec_files if f.replace('.png', '') in mask_ids]\n",
    "\n",
    "    return spec_files, mask_files"
   ]
  },
  {
   "cell_type": "code",
   "execution_count": 18,
   "metadata": {},
   "outputs": [],
   "source": [
    "spec_files, mask_files = clean_dirs(SPECS_DIR, MASKS_DIR)\n",
    "train_specs, test_specs, train_masks, test_masks = \\\n",
    "    sklearn.model_selection.train_test_split(spec_files, mask_files, test_size=0.2, random_state=42)\n",
    "\n",
    "train_gen = data.ImageSegmentationGenerator(\n",
    "    SPECS_DIR, MASKS_DIR, \n",
    "    train_specs, train_masks, \n",
    "    batch_size=DATA_BATCH_SIZE, \n",
    "    image_dims=IMAGE_DIMS, \n",
    "    shuffle=True\n",
    ")\n",
    "\n",
    "test_gen = data.ImageSegmentationGenerator(\n",
    "    SPECS_DIR, MASKS_DIR, \n",
    "    test_specs, test_masks, \n",
    "    batch_size=DATA_BATCH_SIZE, \n",
    "    image_dims=IMAGE_DIMS, \n",
    "    shuffle=True\n",
    ")"
   ]
  },
  {
   "cell_type": "markdown",
   "metadata": {},
   "source": [
    "### Configure model"
   ]
  },
  {
   "cell_type": "code",
   "execution_count": 19,
   "metadata": {},
   "outputs": [],
   "source": [
    "from models import unet\n",
    "\n",
    "NUM_CLASSES = 1\n",
    "\n",
    "model = unet.get_unet_model(input_size=MODEL_INPUT_SIZE, classes=NUM_CLASSES, dropout=0.1)\n",
    "\n",
    "metrics = [\n",
    "    keras.metrics.BinaryAccuracy(), \n",
    "    keras.metrics.BinaryIoU(target_class_ids=[1], threshold=0.5)\n",
    "]\n",
    "model.compile(optimizer=\"adam\", loss=\"binary_crossentropy\", metrics=metrics)"
   ]
  },
  {
   "cell_type": "code",
   "execution_count": null,
   "metadata": {},
   "outputs": [
    {
     "name": "stdout",
     "output_type": "stream",
     "text": [
      "Epoch 1/2\n"
     ]
    }
   ],
   "source": [
    "# Train the model\n",
    "history = model.fit(\n",
    "    train_gen,\n",
    "    epochs=EPOCHS,\n",
    "    batch_size=GPU_BATCH_SIZE,\n",
    "    verbose=2\n",
    ")"
   ]
  },
  {
   "cell_type": "code",
   "execution_count": null,
   "metadata": {},
   "outputs": [],
   "source": [
    "evals = model.evaluate(\n",
    "    test_gen,\n",
    "    batch_size=GPU_BATCH_SIZE,\n",
    "    verbose=2\n",
    ")"
   ]
  }
 ],
 "metadata": {
  "kernelspec": {
   "display_name": "virt",
   "language": "python",
   "name": "python3"
  },
  "language_info": {
   "codemirror_mode": {
    "name": "ipython",
    "version": 3
   },
   "file_extension": ".py",
   "mimetype": "text/x-python",
   "name": "python",
   "nbconvert_exporter": "python",
   "pygments_lexer": "ipython3",
   "version": "3.9.7"
  }
 },
 "nbformat": 4,
 "nbformat_minor": 2
}
