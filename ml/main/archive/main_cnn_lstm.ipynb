{
 "cells": [
  {
   "cell_type": "markdown",
   "metadata": {},
   "source": [
    "### Imports"
   ]
  },
  {
   "cell_type": "code",
   "execution_count": 1,
   "metadata": {},
   "outputs": [],
   "source": [
    "# Libraries\n",
    "import os\n",
    "from importlib import reload\n",
    "import keras\n",
    "from keras import metrics\n",
    "import tensorflow as tf\n",
    "import matplotlib.pyplot as plt\n",
    "\n",
    "# Scripts\n",
    "from acml import data, runners, utils"
   ]
  },
  {
   "cell_type": "code",
   "execution_count": 2,
   "metadata": {},
   "outputs": [
    {
     "name": "stdout",
     "output_type": "stream",
     "text": [
      "Name: tensorflow\n",
      "Version: 2.10.1\n",
      "Summary: TensorFlow is an open source machine learning framework for everyone.\n",
      "Home-page: https://www.tensorflow.org/\n",
      "Author: Google Inc.\n",
      "Author-email: packages@tensorflow.org\n",
      "License: Apache 2.0\n",
      "Location: c:\\users\\sonar\\anaconda3v2\\envs\\acml_2024\\lib\\site-packages\n",
      "Requires: absl-py, astunparse, flatbuffers, gast, google-pasta, grpcio, h5py, keras, keras-preprocessing, libclang, numpy, opt-einsum, packaging, protobuf, setuptools, six, tensorboard, tensorflow-estimator, tensorflow-io-gcs-filesystem, termcolor, typing-extensions, wrapt\n",
      "Required-by: \n"
     ]
    }
   ],
   "source": [
    "!pip show tensorflow"
   ]
  },
  {
   "cell_type": "code",
   "execution_count": 3,
   "metadata": {},
   "outputs": [
    {
     "name": "stdout",
     "output_type": "stream",
     "text": [
      "Name: keras\n",
      "Version: 2.10.0\n",
      "Summary: Deep learning for humans.\n",
      "Home-page: https://keras.io/\n",
      "Author: Keras team\n",
      "Author-email: keras-users@googlegroups.com\n",
      "License: Apache 2.0\n",
      "Location: c:\\users\\sonar\\anaconda3v2\\envs\\acml_2024\\lib\\site-packages\n",
      "Requires: \n",
      "Required-by: keras-tuner, tensorflow\n"
     ]
    }
   ],
   "source": [
    "!pip show keras"
   ]
  },
  {
   "cell_type": "code",
   "execution_count": 4,
   "metadata": {},
   "outputs": [
    {
     "data": {
      "text/plain": [
       "<module 'acml.data' from 'c:\\\\Users\\\\sonar\\\\Desktop\\\\acml_2024_s2\\\\runner\\\\acml\\\\data.py'>"
      ]
     },
     "execution_count": 4,
     "metadata": {},
     "output_type": "execute_result"
    }
   ],
   "source": [
    "reload(data)"
   ]
  },
  {
   "cell_type": "code",
   "execution_count": 5,
   "metadata": {},
   "outputs": [
    {
     "data": {
      "text/plain": [
       "<module 'acml.runners' from 'c:\\\\Users\\\\sonar\\\\Desktop\\\\acml_2024_s2\\\\runner\\\\acml\\\\runners.py'>"
      ]
     },
     "execution_count": 5,
     "metadata": {},
     "output_type": "execute_result"
    }
   ],
   "source": [
    "reload(runners)"
   ]
  },
  {
   "cell_type": "code",
   "execution_count": 6,
   "metadata": {},
   "outputs": [
    {
     "data": {
      "text/plain": [
       "<module 'acml.utils' from 'c:\\\\Users\\\\sonar\\\\Desktop\\\\acml_2024_s2\\\\runner\\\\acml\\\\utils.py'>"
      ]
     },
     "execution_count": 6,
     "metadata": {},
     "output_type": "execute_result"
    }
   ],
   "source": [
    "reload(utils)"
   ]
  },
  {
   "cell_type": "markdown",
   "metadata": {},
   "source": [
    "## `main`"
   ]
  },
  {
   "cell_type": "code",
   "execution_count": 7,
   "metadata": {},
   "outputs": [
    {
     "name": "stdout",
     "output_type": "stream",
     "text": [
      "GPU DETECTED ✓\n",
      "[PhysicalDevice(name='/physical_device:GPU:0', device_type='GPU')]\n"
     ]
    }
   ],
   "source": [
    "# Silence information messages from TensorFlow\n",
    "os.environ['TF_CPP_MIN_LOG_LEVEL'] = '1'\n",
    "\n",
    "# Check whether tf is using the GPU\n",
    "utils.check_gpu_use() \n"
   ]
  },
  {
   "cell_type": "code",
   "execution_count": 8,
   "metadata": {},
   "outputs": [],
   "source": [
    "# from tensorflow.python.client import device_lib\n",
    "# print(device_lib.list_local_devices())"
   ]
  },
  {
   "cell_type": "markdown",
   "metadata": {},
   "source": [
    "### Load data"
   ]
  },
  {
   "cell_type": "code",
   "execution_count": 9,
   "metadata": {},
   "outputs": [],
   "source": [
    "NUM_FOLDS = 5"
   ]
  },
  {
   "cell_type": "code",
   "execution_count": 10,
   "metadata": {},
   "outputs": [
    {
     "name": "stdout",
     "output_type": "stream",
     "text": [
      "Successfully loaded folds with spectrograms.\n",
      "\n"
     ]
    }
   ],
   "source": [
    "# FULL DATASET:\n",
    "# --- Takes _ minutes to run with data in csv --- #\n",
    "# --- Takes 6 minutes to run with data in npz --- #\n",
    "\n",
    "fold_dfs = data.get_fold_dfs_with_data(\n",
    "    fold_definition_csv='data/deepship_5k_seg_3s.csv',\n",
    "    new_path_to_root='data/deepship_ps_2_npz',\n",
    "    npz=True,\n",
    "    label_encodings={0:'Tanker', 1:'Cargo', 2:'Tug', 3:'Passengership'},\n",
    "    n_folds=NUM_FOLDS\n",
    ")\n",
    "print('Successfully loaded folds with spectrograms.\\n')"
   ]
  },
  {
   "cell_type": "code",
   "execution_count": 11,
   "metadata": {},
   "outputs": [],
   "source": [
    "# import cv2\n",
    "# for df in fold_dfs:\n",
    "#     df['spectrogram'] = df['spectrogram'].apply(lambda x: cv2.resize(x, (128, 128)))"
   ]
  },
  {
   "cell_type": "code",
   "execution_count": 12,
   "metadata": {},
   "outputs": [
    {
     "data": {
      "text/plain": [
       "(116, 100)"
      ]
     },
     "execution_count": 12,
     "metadata": {},
     "output_type": "execute_result"
    }
   ],
   "source": [
    "fold_dfs[0]['spectrogram'][0].shape"
   ]
  },
  {
   "cell_type": "code",
   "execution_count": 13,
   "metadata": {},
   "outputs": [],
   "source": [
    "k_folds = data.get_splits_for_all_folds(\n",
    "    fold_dfs, \n",
    "    conv_channel=True,\n",
    "    verbose=False\n",
    ")\n",
    "\n",
    "del fold_dfs"
   ]
  },
  {
   "cell_type": "code",
   "execution_count": 14,
   "metadata": {},
   "outputs": [],
   "source": [
    "# random_spec_pre = k_folds[2]['X_train'][28]\n",
    "# print(random_spec_pre)"
   ]
  },
  {
   "cell_type": "code",
   "execution_count": 15,
   "metadata": {},
   "outputs": [],
   "source": [
    "# k_folds = data.normalise_spectrograms(k_folds)"
   ]
  },
  {
   "cell_type": "code",
   "execution_count": 16,
   "metadata": {},
   "outputs": [],
   "source": [
    "# random_spec_post = k_folds[2]['X_train'][28]\n",
    "# print(random_spec_post)"
   ]
  },
  {
   "cell_type": "code",
   "execution_count": 17,
   "metadata": {},
   "outputs": [],
   "source": [
    "# plt.figure(figsize=(8, 3))\n",
    "\n",
    "# # INPUT\n",
    "# plt.subplot(1, 2, 1)\n",
    "# plt.imshow(random_spec_pre.squeeze(), cmap=\"viridis\", aspect=\"auto\")\n",
    "# plt.title(\"Before Normalisation\")\n",
    "# plt.colorbar()\n",
    "\n",
    "# # DENOISED OUTPUT\n",
    "# plt.subplot(1, 2, 2)\n",
    "# plt.imshow(random_spec_post.squeeze(), cmap=\"viridis\", aspect=\"auto\")\n",
    "# plt.title(\"After Normalisation\")\n",
    "# plt.colorbar()"
   ]
  },
  {
   "cell_type": "markdown",
   "metadata": {},
   "source": [
    "### Initialise model"
   ]
  },
  {
   "cell_type": "code",
   "execution_count": 18,
   "metadata": {},
   "outputs": [
    {
     "name": "stdout",
     "output_type": "stream",
     "text": [
      "Model: \"cnn_lstm\"\n",
      "_________________________________________________________________\n",
      " Layer (type)                Output Shape              Param #   \n",
      "=================================================================\n",
      " pspec (InputLayer)          [(None, 116, 100, 1)]     0         \n",
      "                                                                 \n",
      " conv2d (Conv2D)             (None, 116, 100, 128)     3328      \n",
      "                                                                 \n",
      " batch_normalization (BatchN  (None, 116, 100, 128)    512       \n",
      " ormalization)                                                   \n",
      "                                                                 \n",
      " activation (Activation)     (None, 116, 100, 128)     0         \n",
      "                                                                 \n",
      " max_pooling2d (MaxPooling2D  (None, 58, 50, 128)      0         \n",
      " )                                                               \n",
      "                                                                 \n",
      " conv2d_1 (Conv2D)           (None, 58, 50, 128)       409728    \n",
      "                                                                 \n",
      " batch_normalization_1 (Batc  (None, 58, 50, 128)      512       \n",
      " hNormalization)                                                 \n",
      "                                                                 \n",
      " activation_1 (Activation)   (None, 58, 50, 128)       0         \n",
      "                                                                 \n",
      " max_pooling2d_1 (MaxPooling  (None, 15, 25, 128)      0         \n",
      " 2D)                                                             \n",
      "                                                                 \n",
      " conv2d_2 (Conv2D)           (None, 15, 25, 256)       819456    \n",
      "                                                                 \n",
      " batch_normalization_2 (Batc  (None, 15, 25, 256)      1024      \n",
      " hNormalization)                                                 \n",
      "                                                                 \n",
      " activation_2 (Activation)   (None, 15, 25, 256)       0         \n",
      "                                                                 \n",
      " max_pooling2d_2 (MaxPooling  (None, 8, 13, 256)       0         \n",
      " 2D)                                                             \n",
      "                                                                 \n",
      " conv2d_3 (Conv2D)           (None, 8, 13, 256)        1638656   \n",
      "                                                                 \n",
      " batch_normalization_3 (Batc  (None, 8, 13, 256)       1024      \n",
      " hNormalization)                                                 \n",
      "                                                                 \n",
      " activation_3 (Activation)   (None, 8, 13, 256)        0         \n",
      "                                                                 \n",
      " max_pooling2d_3 (MaxPooling  (None, 2, 7, 256)        0         \n",
      " 2D)                                                             \n",
      "                                                                 \n",
      " layer_normalization (LayerN  (None, 2, 7, 256)        512       \n",
      " ormalization)                                                   \n",
      "                                                                 \n",
      " reshape (Reshape)           (None, 2, 1792)           0         \n",
      "                                                                 \n",
      " lstm (LSTM)                 (None, 512)               4720640   \n",
      "                                                                 \n",
      " flatten (Flatten)           (None, 512)               0         \n",
      "                                                                 \n",
      " dense_all (Dense)           (None, 64)                32832     \n",
      "                                                                 \n",
      " classification (Dense)      (None, 4)                 260       \n",
      "                                                                 \n",
      "=================================================================\n",
      "Total params: 7,628,484\n",
      "Trainable params: 7,626,948\n",
      "Non-trainable params: 1,536\n",
      "_________________________________________________________________\n",
      "None\n"
     ]
    }
   ],
   "source": [
    "from models import cnn_lstm\n",
    "\n",
    "cnn_lstm_model = cnn_lstm.get_cnn_lstm(\n",
    "    input_shape=k_folds[0]['X_train'].shape[1:],\n",
    "    input_name='pspec',\n",
    "    num_classes=4,\n",
    "    verbose=True\n",
    ")\n",
    "\n",
    "cnn_lstm_model.compile(\n",
    "    optimizer=keras.optimizers.Adam(learning_rate=1e-5),\n",
    "    loss=keras.losses.CategoricalCrossentropy(),\n",
    "    metrics=['acc']\n",
    ")"
   ]
  },
  {
   "cell_type": "markdown",
   "metadata": {},
   "source": [
    "### Configure model"
   ]
  },
  {
   "cell_type": "code",
   "execution_count": 19,
   "metadata": {},
   "outputs": [],
   "source": [
    "# These are kwargs for Model.fit() and Model.evaluate() excluding x and y.\n",
    "fit_kwargs = {\n",
    "    'epochs': 1,\n",
    "    'validation_split': 0.2,\n",
    "    'batch_size': 8,\n",
    "    'verbose': 1,\n",
    "    'callbacks': [cnn_lstm.callback_early_stop(patience=3, restore_best_weights=True)]\n",
    "}\n",
    "\n",
    "eval_kwargs = {\n",
    "    'batch_size': 8,\n",
    "    'verbose': 1\n",
    "}"
   ]
  },
  {
   "cell_type": "markdown",
   "metadata": {},
   "source": [
    "### Run k-fold cross val"
   ]
  },
  {
   "cell_type": "code",
   "execution_count": 20,
   "metadata": {},
   "outputs": [
    {
     "name": "stdout",
     "output_type": "stream",
     "text": [
      "FOLD 1\n",
      "2438/2438 [==============================] - 122s 48ms/step - loss: 0.7643 - acc: 0.6969 - val_loss: 0.9627 - val_acc: 0.6470\n",
      "567/567 [==============================] - 10s 17ms/step - loss: 0.8581 - acc: 0.6387\n",
      "142/142 [==============================] - 8s 50ms/step\n",
      "FOLD 2\n",
      "2341/2341 [==============================] - 120s 51ms/step - loss: 0.4485 - acc: 0.8348 - val_loss: 0.9331 - val_acc: 0.6339\n",
      "688/688 [==============================] - 11s 16ms/step - loss: 0.6041 - acc: 0.7465\n",
      "172/172 [==============================] - 7s 37ms/step\n",
      "FOLD 3\n",
      "2357/2357 [==============================] - 115s 49ms/step - loss: 0.3122 - acc: 0.8880 - val_loss: 0.9565 - val_acc: 0.6869\n",
      "668/668 [==============================] - 10s 16ms/step - loss: 0.4344 - acc: 0.8285\n",
      "167/167 [==============================] - 6s 38ms/step\n",
      "FOLD 4\n",
      "2119/2119 [==============================] - 102s 48ms/step - loss: 0.2006 - acc: 0.9345 - val_loss: 1.0355 - val_acc: 0.6663\n",
      "966/966 [==============================] - 15s 16ms/step - loss: 0.5058 - acc: 0.7911\n",
      "242/242 [==============================] - 9s 38ms/step\n",
      "FOLD 5\n",
      "2310/2310 [==============================] - 113s 49ms/step - loss: 0.1251 - acc: 0.9661 - val_loss: 0.4567 - val_acc: 0.8305\n",
      "727/727 [==============================] - 11s 15ms/step - loss: 0.9853 - acc: 0.6822\n",
      "182/182 [==============================] - 7s 40ms/step\n"
     ]
    }
   ],
   "source": [
    "model, histories, evals, metrics = runners.k_fold_cross_validation(\n",
    "    k_folds=k_folds,\n",
    "    model=cnn_lstm_model,\n",
    "    fit_xy=('X_train', 'y_train'),\n",
    "    fit_kwargs=fit_kwargs,\n",
    "    eval_xy=('X_test', 'y_test'),\n",
    "    eval_kwargs=eval_kwargs,\n",
    "    use_cpu=False\n",
    ")"
   ]
  },
  {
   "cell_type": "code",
   "execution_count": 21,
   "metadata": {},
   "outputs": [],
   "source": [
    "# model.save('models\\cnn_lstm_psd_2_10.keras')"
   ]
  },
  {
   "cell_type": "markdown",
   "metadata": {},
   "source": [
    "### Calculate metrics"
   ]
  },
  {
   "cell_type": "code",
   "execution_count": 22,
   "metadata": {},
   "outputs": [
    {
     "data": {
      "text/plain": [
       "[[0.8581299185752869, 0.6387295722961426],\n",
       " [0.6040597558021545, 0.7464532852172852],\n",
       " [0.4344039857387543, 0.828496515750885],\n",
       " [0.505760133266449, 0.7910950183868408],\n",
       " [0.985314667224884, 0.6822172403335571]]"
      ]
     },
     "execution_count": 22,
     "metadata": {},
     "output_type": "execute_result"
    }
   ],
   "source": [
    "evals"
   ]
  },
  {
   "cell_type": "code",
   "execution_count": 23,
   "metadata": {},
   "outputs": [
    {
     "name": "stdout",
     "output_type": "stream",
     "text": [
      "Average loss: 0.6775336921215057\n",
      "Average accuracy: 0.7373983263969421\n"
     ]
    }
   ],
   "source": [
    "loss, acc = utils.calculate_metrics(evals)\n",
    "print(f\"Average loss: {loss}\")\n",
    "print(f\"Average accuracy: {acc}\")"
   ]
  },
  {
   "cell_type": "code",
   "execution_count": 24,
   "metadata": {},
   "outputs": [
    {
     "data": {
      "text/plain": [
       "1"
      ]
     },
     "execution_count": 24,
     "metadata": {},
     "output_type": "execute_result"
    }
   ],
   "source": [
    "len(histories[0].history['acc'])"
   ]
  },
  {
   "cell_type": "code",
   "execution_count": 25,
   "metadata": {},
   "outputs": [
    {
     "name": "stderr",
     "output_type": "stream",
     "text": [
      "C:\\Users\\sonar\\AppData\\Local\\Temp\\ipykernel_6248\\201228151.py:2: UserWarning: FigureCanvasAgg is non-interactive, and thus cannot be shown\n",
      "  fig.show()\n"
     ]
    },
    {
     "data": {
      "image/png": "[encoded data removed]",
      "text/plain": [
       "<Figure size 1400x500 with 2 Axes>"
      ]
     },
     "metadata": {},
     "output_type": "display_data"
    }
   ],
   "source": [
    "fig = utils.get_acc_loss_curves(histories, overlay=True)\n",
    "fig.show()"
   ]
  },
  {
   "cell_type": "code",
   "execution_count": 26,
   "metadata": {},
   "outputs": [],
   "source": [
    "# fig.savefig('models/img/cnn_lstm_psd_20.pdf')"
   ]
  },
  {
   "cell_type": "code",
   "execution_count": 27,
   "metadata": {},
   "outputs": [
    {
     "name": "stdout",
     "output_type": "stream",
     "text": [
      "Average Precision: 0.7627457740941451\n",
      "Average Recall: 0.7374671873728232\n",
      "Average F1 Score: 0.7383620972803105\n"
     ]
    }
   ],
   "source": [
    "print(\"Average Precision:\", metrics[\"precision\"])\n",
    "print(\"Average Recall:\", metrics[\"recall\"])\n",
    "print(\"Average F1 Score:\", metrics[\"f1_score\"])"
   ]
  }
 ],
 "metadata": {
  "kernelspec": {
   "display_name": "acml_2024",
   "language": "python",
   "name": "python3"
  },
  "language_info": {
   "codemirror_mode": {
    "name": "ipython",
    "version": 3
   },
   "file_extension": ".py",
   "mimetype": "text/x-python",
   "name": "python",
   "nbconvert_exporter": "python",
   "pygments_lexer": "ipython3",
   "version": "3.9.7"
  }
 },
 "nbformat": 4,
 "nbformat_minor": 2
}
