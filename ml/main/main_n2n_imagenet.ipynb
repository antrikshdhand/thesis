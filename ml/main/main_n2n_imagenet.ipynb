{
 "cells": [
  {
   "cell_type": "markdown",
   "metadata": {},
   "source": [
    "This is our recreation of Lehtinen et al.'s paper \"Noise2Noise\". "
   ]
  },
  {
   "cell_type": "markdown",
   "metadata": {
    "id": "DXJhge39cEGL"
   },
   "source": [
    "## Google Colab setup"
   ]
  },
  {
   "cell_type": "code",
   "execution_count": null,
   "metadata": {
    "colab": {
     "base_uri": "https://localhost:8080/"
    },
    "id": "k12WHaiaHjIA",
    "outputId": "2ef05437-6b50-471f-a252-41eb6d7a3682"
   },
   "outputs": [],
   "source": [
    "# from google.colab import drive\n",
    "# drive.mount('/content/drive')"
   ]
  },
  {
   "cell_type": "markdown",
   "metadata": {
    "id": "Ohm4g0iCcIeD"
   },
   "source": [
    "## Imports"
   ]
  },
  {
   "cell_type": "code",
   "execution_count": null,
   "metadata": {
    "id": "iC5c9qHeaoBt"
   },
   "outputs": [],
   "source": [
    "import tensorflow as tf\n",
    "import keras\n",
    "from importlib import reload"
   ]
  },
  {
   "cell_type": "code",
   "execution_count": null,
   "metadata": {
    "id": "fc016aOfaeJj"
   },
   "outputs": [],
   "source": [
    "from helpers import generators, utils, noise_models\n",
    "from models import unet_n2n, irfan_2020"
   ]
  },
  {
   "cell_type": "code",
   "execution_count": null,
   "metadata": {},
   "outputs": [],
   "source": [
    "reload(utils)\n",
    "reload(noise_models)"
   ]
  },
  {
   "cell_type": "markdown",
   "metadata": {
    "id": "NWTnHWhPiBLH"
   },
   "source": [
    "## Initialise data"
   ]
  },
  {
   "cell_type": "code",
   "execution_count": null,
   "metadata": {
    "id": "iL4ZR1eGijcu"
   },
   "outputs": [],
   "source": [
    "# TRAIN_IMAGE_DIR = \"drive/MyDrive/imagenet-10k\"\n",
    "TRAIN_IMAGE_DIR = \"../../raw_datasets/imagenet-10k\"\n",
    "# VAL_IMAGE_DIR = \"drive/MyDrive/BSDS300/images/train\"\n",
    "VAL_IMAGE_DIR = \"../../raw_datasets/BSDS300/images/train\"\n",
    "# TEST_IMAGE_DIR = \"drive/MyDrive/BSDS300/images/test\"\n",
    "TEST_IMAGE_DIR = \"../../raw_datasets/BSDS300/images/test\"\n",
    "\n",
    "NUM_EPOCHS = 10\n",
    "GPU_BATCH_SIZE = 4\n",
    "DATA_BATCH_SIZE = 16"
   ]
  },
  {
   "cell_type": "code",
   "execution_count": null,
   "metadata": {
    "id": "tiuBa-lhiDdl"
   },
   "outputs": [],
   "source": [
    "noise_model = noise_models.gaussian_noise"
   ]
  },
  {
   "cell_type": "code",
   "execution_count": null,
   "metadata": {
    "id": "np7QkTbNiZOf"
   },
   "outputs": [],
   "source": [
    "training_gen = generators.NoisyImageTrainGenerator(\n",
    "    image_dir=TRAIN_IMAGE_DIR,\n",
    "    input_noise_model=noise_model,\n",
    "    target_noise_model=noise_model,\n",
    "    batch_size=DATA_BATCH_SIZE,\n",
    "    patch_edge_size=192,\n",
    "    zero_one_normalisation=True,\n",
    "    greyscale=True\n",
    ")\n",
    "\n",
    "validation_gen = generators.NoisyImageValGenerator(\n",
    "    image_dir=VAL_IMAGE_DIR,\n",
    "    noise_model=noise_model,\n",
    "    batch_size=DATA_BATCH_SIZE,\n",
    "    patch_edge_size=192,\n",
    "    zero_one_normalisation=True,\n",
    "    greyscale=True\n",
    ")\n",
    "\n",
    "test_gen = generators.NoisyImageValGenerator(\n",
    "    image_dir=TEST_IMAGE_DIR,\n",
    "    noise_model=noise_model,\n",
    "    batch_size=DATA_BATCH_SIZE,\n",
    "    patch_edge_size=192,\n",
    "    zero_one_normalisation=True,\n",
    "    greyscale=True\n",
    ")"
   ]
  },
  {
   "cell_type": "markdown",
   "metadata": {
    "id": "GwjITuzrdZj_"
   },
   "source": [
    "## Initialise model"
   ]
  },
  {
   "cell_type": "code",
   "execution_count": null,
   "metadata": {
    "id": "27WN9EeQhW4p"
   },
   "outputs": [],
   "source": [
    "def psnr(y_true, y_pred):\n",
    "    return tf.image.psnr(y_true, y_pred, max_val=1.0)"
   ]
  },
  {
   "cell_type": "code",
   "execution_count": null,
   "metadata": {
    "colab": {
     "base_uri": "https://localhost:8080/"
    },
    "id": "jJBifgC-Kc74",
    "outputId": "9c6d5424-e8b0-4d3e-a5ad-a01e2484f3bf"
   },
   "outputs": [],
   "source": [
    "# model = irfan_2020.get_irfan_model(input_shape=(192, 192, 1))\n",
    "model = unet_n2n.get_unet_model(input_shape=(192, 192, 1))\n",
    "\n",
    "model.compile(\n",
    "    optimizer=keras.optimizers.Adam(learning_rate=1e-5, beta_1=0.9, beta_2=0.99, epsilon=1e-8),\n",
    "    loss=keras.losses.MeanSquaredError(),\n",
    "    metrics=[psnr],\n",
    ")\n",
    "\n",
    "model.summary()"
   ]
  },
  {
   "cell_type": "markdown",
   "metadata": {
    "id": "eSw35zmLSHA2"
   },
   "source": [
    "## Train model"
   ]
  },
  {
   "cell_type": "code",
   "execution_count": null,
   "metadata": {
    "id": "qHZaak_isP7A"
   },
   "outputs": [],
   "source": [
    "model_checkpoint_callback = keras.callbacks.ModelCheckpoint(\n",
    "    # filepath=\"drive/MyDrive/saved_models/n2n_imagenet_unet/{epoch:02d}.keras\",\n",
    "    filepath=\"models/saved/n2n_imagenet10k_05122024/unet/{epoch:02d}.keras\",\n",
    "    monitor='val_psnr',\n",
    "    mode='max',\n",
    "    save_best_only=True\n",
    ")\n",
    "\n",
    "csv_logger = keras.callbacks.CSVLogger(\n",
    "    # filename='drive/MyDrive/saved_models/n2n_imagenet_unet/training.log',\n",
    "    filename=\"models/saved/n2n_imagenet10k_05122024/unet/training.log\",\n",
    "    separator=',',\n",
    "    append=False\n",
    ")\n",
    "\n",
    "backup_callback = keras.callbacks.BackupAndRestore(\n",
    "    # backup_dir=\"drive/MyDrive/saved_models/n2n_imagenet_unet\"\n",
    "    backup_dir=\"models/saved/n2n_imagenet10k_05122024/unet/tmp\"\n",
    ")"
   ]
  },
  {
   "cell_type": "code",
   "execution_count": null,
   "metadata": {
    "colab": {
     "base_uri": "https://localhost:8080/"
    },
    "id": "kBtEN1C5JUI_",
    "outputId": "93272dd1-3b5e-4e37-a0bf-32607f06381c"
   },
   "outputs": [],
   "source": [
    "history = model.fit(\n",
    "    training_gen,\n",
    "    validation_data=validation_gen,\n",
    "    batch_size=GPU_BATCH_SIZE,\n",
    "    epochs=NUM_EPOCHS,\n",
    "    verbose=2,\n",
    "    callbacks=[csv_logger, backup_callback]\n",
    ")"
   ]
  },
  {
   "cell_type": "code",
   "execution_count": null,
   "metadata": {
    "id": "ANe4fhKCoHjG"
   },
   "outputs": [],
   "source": [
    "model.save(\"models/saved/n2n_imagenet10k_05122024/unet/unet_10epochs.keras\")"
   ]
  },
  {
   "cell_type": "code",
   "execution_count": null,
   "metadata": {
    "colab": {
     "base_uri": "https://localhost:8080/",
     "height": 1000
    },
    "id": "mk9LEaozo6SW",
    "outputId": "3e924b31-09ea-43c2-d100-3ac028535053"
   },
   "outputs": [],
   "source": [
    "reload(utils)\n",
    "\n",
    "# fig_psnr, fig_loss = utils.get_psnr_and_loss_curves(history, together=False)\n",
    "# fig_psnr.savefig('models/saved/n2n_imagenet10k_05122024/irfan/img/psnr.pdf')\n",
    "# fig_loss.savefig('models/saved/n2n_imagenet10k_05122024/irfan/img/loss.pdf')\n",
    "# fig_psnr.show()\n",
    "# fig_loss.show()\n",
    "\n",
    "together = utils.get_psnr_and_loss_curves(history, together=True)\n",
    "together.savefig('models/saved/n2n_imagenet10k_05122024/unet/img/psnr_loss.pdf')\n",
    "together.show()\n"
   ]
  },
  {
   "cell_type": "markdown",
   "metadata": {
    "id": "gSiJ147SSRQ8"
   },
   "source": [
    "## Evaluate model"
   ]
  },
  {
   "cell_type": "code",
   "execution_count": null,
   "metadata": {},
   "outputs": [],
   "source": [
    "evals = model.evaluate(\n",
    "    test_gen,\n",
    "    batch_size=GPU_BATCH_SIZE,\n",
    "    verbose=2\n",
    ")"
   ]
  },
  {
   "cell_type": "code",
   "execution_count": null,
   "metadata": {},
   "outputs": [],
   "source": [
    "evals"
   ]
  },
  {
   "cell_type": "code",
   "execution_count": null,
   "metadata": {
    "colab": {
     "base_uri": "https://localhost:8080/",
     "height": 581
    },
    "id": "xxCFwmL_SYuE",
    "outputId": "5c6346df-49d4-4e69-d940-5446d1fbef40"
   },
   "outputs": [],
   "source": [
    "# reload(utils)\n",
    "\n",
    "# ground_truth_fig, patches_fig = utils.test_model_on_image(\n",
    "#     image_path=TEST_IMAGE_DIR + \"/285079.jpg\", \n",
    "#     model=model,\n",
    "#     patch_size=192, \n",
    "#     zero_one_normalisation=True, \n",
    "#     greyscale=True,\n",
    "#     stddev=30\n",
    "# )\n",
    "\n",
    "# ground_truth_fig.savefig('models/saved/n2n_imagenet10k_05122024/irfan/img/ground_truth_fig_1.pdf')\n",
    "# patches_fig.savefig('models/saved/n2n_imagenet10k_05122024/irfan/img/patches_fig_1.pdf')"
   ]
  },
  {
   "cell_type": "code",
   "execution_count": null,
   "metadata": {},
   "outputs": [],
   "source": [
    "reload(utils)\n",
    "\n",
    "ground_truth_fig, patches_fig = utils.test_model_on_image(\n",
    "    image_path=TEST_IMAGE_DIR + \"/108005.jpg\", \n",
    "    model=model,\n",
    "    patch_size=192, \n",
    "    zero_one_normalisation=True, \n",
    "    greyscale=True,\n",
    "    stddev=30\n",
    ")\n",
    "\n",
    "ground_truth_fig.savefig('models/saved/n2n_imagenet10k_05122024/unet/img/ground_truth_fig_2.pdf')\n",
    "patches_fig.savefig('models/saved/n2n_imagenet10k_05122024/unet/img/patches_fig_2.pdf')"
   ]
  },
  {
   "cell_type": "code",
   "execution_count": null,
   "metadata": {},
   "outputs": [],
   "source": [
    "reload(utils)\n",
    "\n",
    "ground_truth_fig, patches_fig = utils.test_model_on_image(\n",
    "    image_path=TEST_IMAGE_DIR + \"/148089.jpg\", \n",
    "    model=model,\n",
    "    patch_size=192, \n",
    "    zero_one_normalisation=True, \n",
    "    greyscale=True,\n",
    "    stddev=30\n",
    ")\n",
    "\n",
    "ground_truth_fig.savefig('models/saved/n2n_imagenet10k_05122024/unet/img/ground_truth_fig_3.pdf')\n",
    "patches_fig.savefig('models/saved/n2n_imagenet10k_05122024/unet/img/patches_fig_3.pdf')"
   ]
  },
  {
   "cell_type": "code",
   "execution_count": null,
   "metadata": {},
   "outputs": [],
   "source": []
  }
 ],
 "metadata": {
  "accelerator": "GPU",
  "colab": {
   "gpuType": "A100",
   "provenance": []
  },
  "kernelspec": {
   "display_name": "virt",
   "language": "python",
   "name": "python3"
  },
  "language_info": {
   "codemirror_mode": {
    "name": "ipython",
    "version": 3
   },
   "file_extension": ".py",
   "mimetype": "text/x-python",
   "name": "python",
   "nbconvert_exporter": "python",
   "pygments_lexer": "ipython3",
   "version": "3.9.7"
  }
 },
 "nbformat": 4,
 "nbformat_minor": 0
}
